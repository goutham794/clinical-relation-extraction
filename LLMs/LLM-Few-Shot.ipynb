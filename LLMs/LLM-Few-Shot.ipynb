{
 "cells": [
  {
   "cell_type": "code",
   "execution_count": 1,
   "metadata": {},
   "outputs": [
    {
     "name": "stderr",
     "output_type": "stream",
     "text": [
      "/Users/g.karunakaran/Non-work/clinical-relation-extraction/.venv/lib/python3.12/site-packages/tqdm/auto.py:21: TqdmWarning: IProgress not found. Please update jupyter and ipywidgets. See https://ipywidgets.readthedocs.io/en/stable/user_install.html\n",
      "  from .autonotebook import tqdm as notebook_tqdm\n"
     ]
    },
    {
     "data": {
      "text/plain": [
       "True"
      ]
     },
     "execution_count": 1,
     "metadata": {},
     "output_type": "execute_result"
    }
   ],
   "source": [
    "from openai import OpenAI\n",
    "from dotenv import load_dotenv\n",
    "from os import getenv\n",
    "from util_functions import get_examples_for_prompt, read_clinical_docs, validate_relations, write_pubtator_data\n",
    "from tqdm.auto import tqdm\n",
    "import sys\n",
    "sys.path.append(\"../.\")\n",
    "from config import Config\n",
    "from prompt_config import Prompt_Config\n",
    "\n",
    "load_dotenv()"
   ]
  },
  {
   "cell_type": "code",
   "execution_count": 2,
   "metadata": {},
   "outputs": [],
   "source": [
    "client = OpenAI(\n",
    "  # base_url=\"https://openrouter.ai/api/v1\",\n",
    "  # api_key=getenv(\"OPENROUTER_API_KEY\"),\n",
    "  api_key=getenv(\"OPENAI_API_KEY\"),\n",
    ")"
   ]
  },
  {
   "cell_type": "code",
   "execution_count": 3,
   "metadata": {},
   "outputs": [],
   "source": [
    "lang = \"eu\"\n",
    "gen_config = Config(lang)\n",
    "prompt_config = Prompt_Config(lang)"
   ]
  },
  {
   "cell_type": "code",
   "execution_count": 4,
   "metadata": {},
   "outputs": [],
   "source": [
    "few_shot_examples = get_examples_for_prompt(gen_config.DATASET_PATH, prompt_config.few_shot_doc_ids)"
   ]
  },
  {
   "cell_type": "code",
   "execution_count": 5,
   "metadata": {},
   "outputs": [],
   "source": [
    "message_list = [\n",
    "{\n",
    "\"role\" : \"system\",\n",
    "\"content\" : f\"You are provided with a clinical statement in {prompt_config.language}. Your task is Relation Extraction. Extract mentions of laboratory tests and their results from the statement. Note: the result is written first in the output and then the name of the test. They are separated with a '|'. Print only the relations if any and nothing else.\"\n",
    "},\n",
    "{\n",
    "\"role\" : \"user\",\n",
    "\"content\" : few_shot_examples[0]['Text']\n",
    "},\n",
    "{\n",
    "\"role\" : \"assistant\",\n",
    "\"content\" : few_shot_examples[0]['Output']\n",
    "},\n",
    "{\n",
    "\"role\" : \"user\",\n",
    "\"content\" : few_shot_examples[1]['Text']\n",
    "},\n",
    "{\n",
    "\"role\" : \"assistant\",\n",
    "\"content\" : few_shot_examples[0]['Output']\n",
    "},\n",
    "]"
   ]
  },
  {
   "cell_type": "code",
   "execution_count": 6,
   "metadata": {},
   "outputs": [],
   "source": [
    "docs = read_clinical_docs(gen_config.TEST_DATASET)"
   ]
  },
  {
   "cell_type": "code",
   "execution_count": 7,
   "metadata": {},
   "outputs": [],
   "source": [
    "# model_name = \"gpt-4o\"\n",
    "model_name = \"gpt-4-turbo-2024-04-09\""
   ]
  },
  {
   "cell_type": "code",
   "execution_count": 8,
   "metadata": {},
   "outputs": [
    {
     "name": "stderr",
     "output_type": "stream",
     "text": [
      "  0%|          | 0/80 [00:00<?, ?it/s]"
     ]
    },
    {
     "name": "stderr",
     "output_type": "stream",
     "text": [
      "100%|██████████| 80/80 [03:59<00:00,  2.99s/it]\n"
     ]
    }
   ],
   "source": [
    "relations = []\n",
    "\n",
    "for doc in tqdm(docs):\n",
    "    chat_prompt = [*message_list, {\n",
    "        \"role\" : \"user\",\n",
    "        \"content\" : doc[1]\n",
    "        }]\n",
    "    \n",
    "    completion = client.chat.completions.create(\n",
    "    model=model_name,\n",
    "    messages=chat_prompt\n",
    "  )\n",
    "    \n",
    "  #   completion = client.chat.completions.create(\n",
    "  #   model=model_name,\n",
    "  #   messages=chat_prompt,\n",
    "  #   temperature=0.0\n",
    "  # )\n",
    "    relations.append(completion.choices[0].message.content)"
   ]
  },
  {
   "cell_type": "code",
   "execution_count": 9,
   "metadata": {},
   "outputs": [
    {
     "data": {
      "text/plain": [
       "['Sorry, but no specific laboratory tests or their results were mentioned in the statement provided.',\n",
       " '144/83 mm Hg | Tentsio arteriala\\n98 tau/min | bihotz-maiztasuna\\n% 99 | O2Sat\\n40 dB | transmisioko hipoakusia',\n",
       " 'There are no laboratory tests or results mentioned in this clinical statement related to the trauma scenario provided. The focus is on the physical incident, diagnosis, radiography, surgery, and post-operative care, without specific reference to laboratory test values or results.',\n",
       " '',\n",
       " '',\n",
       " '39 ºC | tenperatura',\n",
       " 'positiboa | 13/14C-urearen arnas testa',\n",
       " '140/95 mmHg | Tentsio arteriала',\n",
       " '% 45 | eiekzioaren frakzioa',\n",
       " '235 mg/dL | kolesterol osoa\\n150 mg/dL | LDL-kolesterola\\n45 mg/dL | HDL-kolesterola\\n140/97 mm-Hg | Tentsio arteriala',\n",
       " 'No relations were mentioned regarding laboratory tests and their results in the statement provided.',\n",
       " '7 puntu | ikus-eskala analogikoa (EVA)',\n",
       " '4 kg | pisu galera',\n",
       " '',\n",
       " '% 74,5 | Oxigenoaren batez besteko saturazioa\\n89 | Orduko apnea-hipopnea indizea\\n75 orduko | Desaturazio indizea',\n",
       " '1240 UI/mL | ASTO',\n",
       " '131 mEq/L | sodioa\\n176 mg/dL | PCR\\n19.700/mm3 | leukozitoak',\n",
       " '7,2 mg/dl | Kreatinina\\n235 mg/dl | urea\\n99 meq/l | Cl\\n135 meq/l | Na\\n3,4 meq/l | K\\n164 mg/dl | glukosa\\n15 | CO2 totala\\n15,4 g/dl | hemoglobina\\n% 45,1 | hematokritoa\\n162.000/µ\\xad l | plaketak\\n12.000/µl | leukozitoak\\n1,07 | INR\\n31,1 s | APTT\\n98 mg/dl | Kreatinina\\n500 mg/dl | urea\\n32 meq/l | Na\\n28 meq/l | potasioa\\n32 meq/l | kloroa\\n% 1 | sodioaren iraizpen-frakzioa\\n4,2 | Kreatinina\\n120 | urea\\n102 | kloroa\\n143 | sodioa\\n4,5 | potasioa\\n6,2 | proteina totalak\\n8,9 | kaltzioa\\n189 | proteina C-erreaktiboa\\n2.100 ml | 24 orduko gernua\\n210 mg/24 orduan | proteinak\\n32 ml/min | kreatininaren argitzea\\n1,4 | Kreatinina\\n50 | urea\\n138 | sodioa\\n4,2 | potasioa\\n100 | kloroa\\n13,2 | hemoglobina\\n7.540 | leukozitoak',\n",
       " 'Ez dago laborategiko proben edo emaitzen aipamenik testuan.',\n",
       " '',\n",
       " 'Ez dago laborategiko proben emaitza zehatzik testu honetan adierazita.',\n",
       " '74 mg/L | PCR\\n15.000 leukozito/mm3 | leukozitoak\\n38.6ºC | sukarra\\n256 | IgG antigorputzak\\n2048 | IgG antigorputzak',\n",
       " '17mm | Mantouxa\\npositiboa | Orratz finaren bidezko ziztada',\n",
       " '10mm | Mantouxa\\npositiboa | Tuberkulosi interferoia\\nMycobacterium Tuberculosis Complex | OFZ',\n",
       " '150/80 mmHg | PA\\n91 lpm | Pultsoa\\n%95 | Sat O2\\n%21 | Fi O2\\n36.5ºC | Tª\\n13.5 g/dl | Hb\\n5.700 | Leukozitoak\\n327.000 | Plaketak\\n0,92 | INR\\n387 mg/dl | Fribrinogenoa\\n23u/l | ALT\\n86 l/m | erritmo sinusala',\n",
       " '95/65 mm Hg | Tentsio arteriala\\n98 tau/min | bihotz-maiztasuna\\n28 arnas/min | arnas maiztasuna\\n% 98 | O2Sat\\n7,2 mg/dl | Kreatinina\\n235 mg/dl | urea\\n99 meq/l | Cl\\n135 meq/l | Na\\n3,4 meq/l | K\\n164 mg/dl | glukosa\\n15 | CO2 totala\\n15,4 g/dl | hemoglobina\\n% 45,1 | hematokritoa\\n162.000/µl | plaketak\\n12.000/µl | leukozitoak\\n1,07 | INR\\n31,1 s | APTT\\n98 mg/dl | Kreatinina GERNU-SEDIMENTUA\\n500 mg/dl | urea GERNU-SEDIMENTUA\\n32 meq/l | Na GERNU-SEDIMENTUA\\n28 meq/l | potasioa GERNU-SEDIMENTUA\\n32 meq/l | kloroa GERNU-SEDIMENTUA\\n% 1 | sodioaren iraizpen-frakzioa\\n4,2 | Kreatinina ANALITIKA OSAGARRIAK\\n120 | urea ANALITIKA OSAGARRIAK\\n102 | kloroa ANALITIKA OSAGARRIAK\\n143 | sodioa ANALITIKA OSAGARRIAK\\n4,5 | potasioa ANALITIKA OSAGARRIAK\\n1,4 | Kreatinina ALTA-EGUNEKO ANALITIKA\\n50 | urea ALTA-EGUNEKO ANALITIKA\\n138 | sodioa ALTA-EGUNEKO ANALITIKA\\n4,2 | potasioa ALTA-EGUNEKO ANALITIKA\\n100 | kloroa ALTA-EGUNEKO ANALITIKA\\n13,2 | hemoglobina ALTA-EGUNEKO ANALITIKA\\n7.540 | leukozitoak ALTA-EGUNEKO ANALITIKA',\n",
       " 'anemia | Odol-azterketa\\ntronbozitopenia | Odol-azterketa\\ngiltzurruneko gutxiegitasun akutua | Odol-azterketa',\n",
       " 'anemia | Odol-azterketan\\ntronbozitopenia | Odol-azterketan\\ngiltzurruneko gutxiegitasun akutua | Odol-azterketan\\neskistozitoak | Odol-azterketan',\n",
       " 'No laboratory test results or names are explicitly mentioned in the given text related to their results, hence there is nothing to output based on the given instructions.',\n",
       " 'Ziehl Neelsen tintzio positiboarekin | biopsia\\nMycobacterium tuberculosis complex nabarmendu zen | inmunokromatografia\\nM. bovis zela bereiztu zen | PCR',\n",
       " '+ | P. Falciparum Antigenemia\\n%7 | Parasitazio Indizea\\n+ | PCR',\n",
       " '',\n",
       " '980,00 kUA/L | IgE\\n59,80 mg/L | PCR\\n12,73*103/uL | neutrofilia\\n18,34*103/uL | leukozitosia',\n",
       " '221U/L | amilasa\\n178,9U/L | lipasa\\n313U/L | amilasa\\n344,8U/L | lipasa\\n127U/L | amilasa\\n48U/L | lipasa',\n",
       " 'altua | laktato maila\\nigoera | leukozito\\nigoera | troponina\\nigoera | kreatina-kinasa',\n",
       " '3-10 hematie / kanpo | Gernu-analisia\\nzelulamalignoak | Gernu-zitologia\\nnegatiboa | Urokultiboa\\nnegatiboa | KONTROLEZKO GERNU-ZITOLOGIA',\n",
       " '1810/mmᶟ | Leukozitoak\\n53.000/mmᶟ | Plaketak',\n",
       " 'Gluzemia alterazioa | Baraurik neurtutako gluzemia',\n",
       " '',\n",
       " 'IgM positibo ahula | Chlamydia trachomatis',\n",
       " '42.9 (positiboa) | Beta traza',\n",
       " 'Sorry, but there are no laboratory tests and results mentioned in the provided text to extract any relations from.',\n",
       " 'Sorry, there are no lab test results mentioned in the provided text to extract.',\n",
       " '6.43 | PCR\\n11.2 | Hb\\n69.8 | Neutrofiloak',\n",
       " '136/88 | TA\\n105 minuturo | FC\\n37 ºC | Tª',\n",
       " \"178 mg/dl | urea\\n4'69 mg/dl | kreatinina\\n11'75 mg/dl | azido urikoa\\n13'25 mg/dll | kaltzioa\\n3'24 g/dl | albumina\\n129 mmol/L | sodioa\\n5'87 mmol/L | potasioa\\n27'67 mg/dl | PCR\\n267 U/L | LDH\\n9’4 g/dl | Hb\",\n",
       " 'There is no mention of laboratory tests and their results in this clinical statement.',\n",
       " '1,82 | Albumina\\n81/60 | TA\\n70 | BM\\n36.3º | Tª\\n8.6 | Hb',\n",
       " '95/65 mm Hg | Tentsio arteriala\\n98 tau/min | bihotz-maiztasuna\\n28 arnas/min | arnas maiztasuna\\n% 98 | O2Sat\\n7,2 mg/dl | Kreatinina\\n235 mg/dl | urea\\n99 meq/l | Cl\\n135 meq/l | Na\\n3,4 meq/l | K\\n164 mg/dl | glukosa\\n15 | CO2 totala\\n15,4 g/dl | hemoglobina\\n% 45,1 | hematokritoa\\n162.000/µl | plaketak\\n12.000/µl | leukozitoak\\n1,07 | INR\\n31,1 s | APTT\\n98 mg/dl | Kreatinina\\n500 mg/dl | urea\\n32 meq/l | Na\\n28 meq/l | potasioa\\n32 meq/l | kloroa\\n% 1 | sodioaren iraizpen-frakzioa\\n4,2 | Kreatinina\\n120 | urea\\n102 | kloroa\\n143 | sodioa\\n4,5 | potasioa\\n6,2 | proteina totalak\\n8,9 | kaltzioa\\n189 | proteina C-erreaktiboa\\n2.100 ml | 24 orduko gernua\\n210 mg/24 orduan | proteinak\\n32 ml/min | kreatininaren argitzea\\n1,4 | Kreatinina\\n50 | urea\\n138 | sodioa\\n4,2 | potasioa\\n100 | kloroa\\n13,2 | hemoglobina\\n7.540 | leukozitoak',\n",
       " '240 mg/dl | gluzemia',\n",
       " 'muki berdeak | errinorrea',\n",
       " '39,4ºC | Tª\\n150 lpm | BM\\n150 lpm | FC\\n120/60 mmHg | TA\\n94% | SapO2\\n35 rpm | AM\\n35 rpm | FR\\n14,5 g/dl | Hb\\n248000/mcl | plaketak\\n17.600/mcl | leukozitoak\\n18,5 mg/dl | PCR',\n",
       " '137 | Urea\\n2.82 | Cr\\n3.59 | Albumina\\n0.98 | Br tot\\n129 | Na\\n5.20 | K\\n34.73 | PCR\\n6.38 | prokaltzitonina\\n9.3 | Hb\\n510000 | plaketak\\n23000 | leukozitoak\\n1.21 | INR',\n",
       " 'Sorry, there are no lab test results mentioned in the provided statement to extract.',\n",
       " 'There are no laboratory tests or their results mentioned in the provided clinical statement.',\n",
       " \"Sorry, the response seems to have been confused with previous inputs which are not related to your given case summary. Here's the analysis based on your Basque text description:\\n\\nThe patient is a 62-year-old man attending the emergency department with symptoms indicative of intestinal obstruction, which includes vomiting and a distended abdomen. However, there are no clinical test results mentioned directly in your text excerpt regarding lab values or specific measures like blood glucose, pH levels, or other metabolic indicators typically extracted. Therefore, no relations concerning laboratory tests and their results can be extracted from the given data. If more specific data becomes available, we could provide the necessary information.\",\n",
       " 'ohiko baloreen gainetik | gibel entzimak',\n",
       " 'No laboratory tests or results were mentioned in the provided text.',\n",
       " '7,2 mg/dl | Kreatinina\\n235 mg/dl | urea\\n99 meq/l | Cl\\n135 meq/l | Na\\n3,4 meq/l | K\\n164 mg/dl | glukosa\\n15 | CO2 totala\\n15,4 g/dl | hemoglobina\\n% 45,1 | hematokritoa\\n162.000/µl | plaketak\\n12.000/µl | leukozitoak\\n1,07 | INR\\n31,1 s | APTT\\n98 mg/dl | Kreatinina\\n500 mg/dl | urea\\n32 meq/l | Na\\n28 meq/l | potasioa\\n32 meq/l | kloroa\\n% 1 | sodioaren iraizpen-frakzioa\\n4,2 | Kreatinina\\n120 | urea\\n102 | kloroa\\n143 | sodioa\\n4,5 | potasioa\\n6,2 | proteina totalak\\n8,9 | kaltzioa\\n189 | proteina C-erreaktiboa\\n2.100 ml | 24 orduko gernua\\n210 mg/24 orduan | proteinak\\n32 ml/min | kreatininaren argitzea\\n1,4 | Kreatinina\\n50 | urea\\n138 | sodioa\\n4,2 | potasioa\\n100 | kloroa\\n13,2 | hemoglobina\\n7.540 | leukozitoak',\n",
       " '',\n",
       " '90/40 | TA\\n100 taupada/min | BM\\n95% | O2 asetasuna\\n35,1 ºC | Tenp',\n",
       " '111.7 mg/L | PCR\\n3.22 | Hematieak\\n10 | Hb\\n%31.5 | Hto\\n227.000 | plaketak\\n8.700 | leukozitoak\\n500 | Esterasa\\n++ | nitritoak',\n",
       " '1.7 mg/dL | PCR\\n0.21 | Prokaltzitonina\\n4.6 | Hematieak\\n12.1 | Hb\\n%40.8 | Hto\\n256.000 | plaketak\\n10.300 | leukozitoak',\n",
       " 'Osteopenia | Dentsitometria',\n",
       " 'osteoporosia | Dentsitometria',\n",
       " '9,5 g/dL | Hb\\n79 | VCM\\n2% | erretikulozitoak\\n2.000/mm3 | Plaketak\\n7.000/mm3 | Leukozitoak\\n111 mg/dL | Urea\\n2,06 mg/dL | Kreatinina\\n4,01 mg/dL | Bilirrubina\\n2000 U/L | LDH\\n2 mg/dL | PCE',\n",
       " '',\n",
       " '130/78 mmHg | PA\\n87 | BM\\n36,6ºC | Tª\\n%96 | O2 asetasuna',\n",
       " '95/65 mm Hg | Tentsio arteriala\\n7,2 mg/dl | Kreatinina\\n235 mg/dl | urea\\n99 meq/l | Cl\\n135 meq/l | Na\\n3,4 meq/l | K\\n164 mg/dl | glukosa\\n15 | CO2 totala\\n15,4 g/dl | hemoglobina\\n% 45,1 | hematokritoa\\n162.000/µl | plaketak\\n12.000/µl | leukozitoak\\n1,07 | INR\\n31,1 s | APTT\\n98 mg/dl | Kreatinina\\n500 mg/dl | urea\\n32 meq/l | Na\\n28 meq/l | potasioa\\n32 meq/l | kloroa\\n% 1 | sodioaren iraizpen-frakzioa\\n4,2 | Kreatinina\\n120 | urea\\n102 | kloroa\\n143 | sodioa\\n4,5 | potasioa\\n6,2 | proteina totalak\\n8,9 | kaltzioa\\n189 | proteina C-erreaktiboa\\n2.100 ml | 24 orduko gernua\\n210 mg/24 orduan | proteinak\\n32 ml/min | kreatininaren argitzea\\n1,4 | Kreatinina\\n50 | urea\\n138 | sodioa\\n4,2 | potasioa\\n100 | kloroa\\n13,2 | hemoglobina\\n7.540 | leukozitoak',\n",
       " '875/125mg | Amoxizilina klabulanikoa\\nPrednisonazko | beheranzko tratamentub',\n",
       " '90-95.pertzentila | tentsio arteriala\\n50 taupada/min | bradikardia\\n11 | GCS',\n",
       " '95/65 mm Hg | Tentsio arteriala\\n98 tau/min | bihotz-maiztasuna\\n28 arnas/min | arnas maiztasuna\\n% 98 | O2Sat\\n7,2 mg/dl | Kreatinina\\n235 mg/dl | urea\\n99 meq/l | Cl\\n135 meq/l | Na\\n3,4 meq/l | K\\n164 mg/dl | glukosa\\n15 | CO2 totala\\n15,4 g/dl | hemoglobina\\n% 45,1 | hematokritoa\\n162.000/µ\\xadl | plaketak\\n12.000/µl | leukozitoak\\n1,07 | INR\\n31,1 s | APTT\\n98 mg/dl | Kreatinina\\n500 mg/dl | urea\\n32 meq/l | Na\\n28 meq/l | potasioa\\n32 meq/l | kloroa\\n% 1 | sodioaren iraizpen-frakzioa\\n4,2 | Kreatinina\\n120 | urea\\n102 | kloroa\\n143 | sodioa\\n4,5 | potasioa\\n6,2 | proteina totalak\\n8,9 | kaltzioa\\n189 | proteina C-erreaktiboa\\n2.100 ml | 24 orduko gernua\\n210 mg/24 h | proteinak\\n32 ml/min | kreatininaren argitzea\\n1, tomorrow | Kreatinina\\n50 | urea\\n138 | sodioa\\n4,2 | potasioa\\n100 | kloroa\\n13,2 | hemoglobina\\n7.540 | leukozitoak',\n",
       " 'aszitis zeinuak | Abdomeneko erradiografia',\n",
       " '160/80 | TA\\n75 taupada/min | BF\\n%94 | O2sat',\n",
       " '39.9ºC | sukarra\\n106/73 mmHg | TA\\n103 taupada/minutuko | BF\\n39ºC | Tª\\n%99 | O2sat',\n",
       " '10.3 | Hb',\n",
       " 'Endometriko adenokartzinoma endometrioidea | Biopsia endometriala',\n",
       " '',\n",
       " '90/60mmHg | TA\\n120 taupada/minutuko | BM\\n%85eko | saturazioa',\n",
       " '']"
      ]
     },
     "execution_count": 9,
     "metadata": {},
     "output_type": "execute_result"
    }
   ],
   "source": [
    "relations"
   ]
  },
  {
   "cell_type": "code",
   "execution_count": 10,
   "metadata": {},
   "outputs": [
    {
     "name": "stdout",
     "output_type": "stream",
     "text": [
      "GPT made an oopsie - Sorry, but no specific laboratory tests or their results were mentioned in the statement provided.\n",
      "100023 (1269, 1274) (1245, 1268) failed assertion\n",
      "GPT made an oopsie - There are no laboratory tests or results mentioned in this clinical statement related to the trauma scenario provided. The focus is on the physical incident, diagnosis, radiography, surgery, and post-operative care, without specific reference to laboratory test values or results.\n",
      "100045 (97, 102) (106, 117) failed assertion\n",
      "GPT made an oopsie - No relations were mentioned regarding laboratory tests and their results in the statement provided.\n",
      "GPT made an oopsie - Ez dago laborategiko proben edo emaitzen aipamenik testuan.\n",
      "GPT made an oopsie - Ez dago laborategiko proben emaitza zehatzik testu honetan adierazita.\n",
      "GPT made an oopsie - No laboratory test results or names are explicitly mentioned in the given text related to their results, hence there is nothing to output based on the given instructions.\n",
      "100100 (399, 448) (378, 397) failed assertion\n",
      "100100 (578, 604) (571, 574) failed assertion\n",
      "100101 (485, 487) (490, 509) failed assertion\n",
      "GPT made an oopsie - Sorry, but there are no laboratory tests and results mentioned in the provided text to extract any relations from.\n",
      "GPT made an oopsie - Sorry, there are no lab test results mentioned in the provided text to extract.\n",
      "100142 (694, 698) (692, 694) failed assertion\n",
      "100144 (925, 937) (923, 925) failed assertion\n",
      "100145 (1295, 1302) (1292, 1295) failed assertion\n",
      "GPT made an oopsie - There is no mention of laboratory tests and their results in this clinical statement.\n",
      "GPT made an oopsie - Sorry, there are no lab test results mentioned in the provided statement to extract.\n",
      "GPT made an oopsie - There are no laboratory tests or their results mentioned in the provided clinical statement.\n",
      "GPT made an oopsie - Sorry, the response seems to have been confused with previous inputs which are not related to your given case summary. Here's the analysis based on your Basque text description:\n",
      "GPT made an oopsie - The patient is a 62-year-old man attending the emergency department with symptoms indicative of intestinal obstruction, which includes vomiting and a distended abdomen. However, there are no clinical test results mentioned directly in your text excerpt regarding lab values or specific measures like blood glucose, pH levels, or other metabolic indicators typically extracted. Therefore, no relations concerning laboratory tests and their results can be extracted from the given data. If more specific data becomes available, we could provide the necessary information.\n",
      "GPT made an oopsie - No laboratory tests or results were mentioned in the provided text.\n",
      "100197 (471, 480) (484, 486) failed assertion\n"
     ]
    }
   ],
   "source": [
    "pubtator_data = validate_relations(relations, docs, gen_config.TEST_TOKEN_DATA)"
   ]
  },
  {
   "cell_type": "code",
   "execution_count": 12,
   "metadata": {},
   "outputs": [],
   "source": [
    "write_pubtator_data(lang, model_name, pubtator_data, docs)"
   ]
  }
 ],
 "metadata": {
  "kernelspec": {
   "display_name": ".venv",
   "language": "python",
   "name": "python3"
  },
  "language_info": {
   "codemirror_mode": {
    "name": "ipython",
    "version": 3
   },
   "file_extension": ".py",
   "mimetype": "text/x-python",
   "name": "python",
   "nbconvert_exporter": "python",
   "pygments_lexer": "ipython3",
   "version": "3.12.1"
  }
 },
 "nbformat": 4,
 "nbformat_minor": 2
}
