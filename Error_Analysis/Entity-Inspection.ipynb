{
 "cells": [
  {
   "cell_type": "code",
   "execution_count": 13,
   "metadata": {},
   "outputs": [],
   "source": [
    "from utils import bio_to_entities, get_gold_data\n",
    "from collections import Counter"
   ]
  },
  {
   "cell_type": "code",
   "execution_count": 6,
   "metadata": {},
   "outputs": [],
   "source": [
    "tokens, labels = get_gold_data(\"it\")"
   ]
  },
  {
   "cell_type": "code",
   "execution_count": 11,
   "metadata": {},
   "outputs": [],
   "source": [
    "TST, RML = [], []\n",
    "for sent_tokens, sent_lables in zip(tokens, labels):\n",
    "    entities = bio_to_entities(sent_tokens, sent_lables)\n",
    "    for entity in entities:\n",
    "        if entity[0] == 'TST':\n",
    "            TST.append(entity[1])\n",
    "        else:\n",
    "            RML.append(entity[1])"
   ]
  },
  {
   "cell_type": "code",
   "execution_count": 16,
   "metadata": {},
   "outputs": [
    {
     "data": {
      "text/plain": [
       "503"
      ]
     },
     "execution_count": 16,
     "metadata": {},
     "output_type": "execute_result"
    }
   ],
   "source": [
    "len(RML)"
   ]
  },
  {
   "cell_type": "code",
   "execution_count": 14,
   "metadata": {},
   "outputs": [
    {
     "name": "stdout",
     "output_type": "stream",
     "text": [
      "[('nella norma', 23), ('negativo', 15), ('negative', 12), ('negativi', 8), ('negativa', 7), ('positivo', 6), ('positiva', 5), ('positive', 4), ('positività', 4), ('negatività', 3), ('positivi', 3), ('presenti', 3), ('19 kg', 2), ('0.34 mg / dl', 2), ('elevati', 2), ('39%', 2), ('4 / 5', 2), ('70', 2), ('Nella norma', 2), ('1 : 640', 2), ('100%', 2), ('91%', 2), ('assenti', 2), ('3 cc', 2), ('3.0mEq / l', 2), ('+ + + +', 2), ('normalizzazione', 2), ('2', 1), ('3', 1), ('pari 0 inferiori a 1.5 mg / dl', 1), ('280 mg / dl', 1), ('7.5 g / dl', 1), ('1.9', 1), ('2.5 mg / dl', 1), ('inferiori a 10 ng / L', 1), ('ai limiti inferiori di norma', 1), ('8,8', 1), ('4,5 g / dl', 1), ('2,0 g / dl', 1), ('78,5 ml / min', 1), ('medio-alta', 1), ('18,26 micromoli / L', 1), ('187,23 micromoli / L', 1), ('78.30 micromoli / mmol', 1), ('4,38 micromoli / L', 1), ('27,7 kg', 1), ('12.1', 1), ('5,9 g / dl', 1), ('2,8 g / dl', 1), ('+ 26,5 ohm / m', 1), ('2,81 micromoli / l', 1), ('10.1 mg / dL', 1), ('3.8 mg / dL', 1), ('38.4', 1), ('< 300 pg / mL', 1), ('circa 1000 ml / 24 ore', 1), ('1000 ml / die', 1), ('fino a 12.8 mg / dL', 1), ('8.6 mg / dL', 1), ('111.0', 1), ('fino a 615 pg / mL', 1), ('punte di circa 1200 pg / mL', 1), ('> 800 pg / mL', 1), ('13,5g / dL', 1), ('4.260.000 / mmc', 1), ('25.000 / mmc', 1), ('21%', 1), ('2,5%', 1), ('0,5%', 1), ('28%', 1), ('9%', 1), ('350.000 / mmc', 1), ('250 UI / L', 1), ('900 UI / L', 1), ('3,5 mg / dL', 1), ('1,8 mg / dL', 1), ('< 30%', 1), ('40 - 50 mmHg', 1), ('10,2%', 1), ('2,3 mg / dl', 1), ('90 / 60 mmHg', 1), ('90 bpm', 1), ('25%', 1), ('severa', 1), ('70 - 75 mmHg', 1), ('30 mm', 1), ('185 mg / dl', 1), ('3,4 mg / dl', 1), ('4,1 mg / dl', 1), ('129 mmol / l', 1), ('5,4 mmol / l', 1), ('40 - 45 mmHg', 1), ('severo', 1), ('medio', 1), ('3 mg / dl', 1), ('grado 0 / 5', 1), ('2 / 5', 1), ('3 / 5', 1), ('33,62 MPL / ml', 1), ('23 : 48 UA / ml', 1), ('110 mEq / l', 1), ('60 kg', 1), ('50 battiti / minuto', 1), ('37,5 ° C', 1), ('123 mEq / l', 1), ('125 mEq / l', 1), ('136 mEq / l', 1), ('normali valori', 1), ('valori nei limiti', 1), ('136 mEq / L', 1), ('2.380.000 / μcl', 1), ('6.2 g / dl', 1), ('22%', 1), ('92 fl', 1), ('26.1 pg', 1), ('28.2 g / dl', 1), ('26.7%', 1), ('12.700 / μcl', 1), ('77.6%', 1), ('129.000 / μcl', 1), ('412X109 / L', 1), ('3.6 - 0.9 mg / dl', 1), ('3479 u / l', 1), ('< 5 mg / dl', 1), ('14.5 mg / dl', 1), ('758 mu / 109 GR', 1), ('3,2%', 1), ('17,8%', 1), ('12 cm', 1), ('4.150.000 / μcl', 1), ('10.6g / dl', 1), ('38.3%', 1), ('92.3 fl', 1), ('25.5 pg', 1), ('27.7.2 g / dl', 1), ('22.6%', 1), ('484.7X109 / L', 1), ('2.1 - 0.7 mg / dl', 1), ('1660 u / l', 1), ('aspecifica', 1), ('8,4 gr / dl', 1), ('6,3 gr / dl', 1), ('2,26mg / dl', 1), ('fino a 40 °', 1), ('109 mMol / L', 1), ('di poco superiori alla norma', 1), ('2,5 mg / dl', 1), ('77 mg / dl', 1), ('3.500.000', 1), ('15', 1), ('3,7', 1), ('fino a 40000', 1), ('92%', 1), ('> 15%', 1), ('12.2', 1), ('5.7', 1), ('4.5', 1), ('9', 1), ('359 Kcal', 1), ('33,2 Kg', 1), ('12,67', 1), ('circa 6000 ml / die', 1), ('85', 1), ('fino ad un valore di 38,5 ° C', 1), ('154 mMol / L', 1), ('fino a 13 mg / dL', 1), ('9,5 mg / dL', 1), ('17,0 mg / dL', 1), ('38.5 ° C', 1), ('105 / 60', 1), ('elevato', 1), ('82 U / L', 1), ('93 U / L', 1), ('2.200 / mmc', 1), ('50%', 1), ('41%', 1), ('88.000 / mmc', 1), ('86', 1), ('5,80 mg / dL', 1), ('punte di 40 ° C', 1), ('4', 1), ('150 / 80 mmHg', 1), ('150 bpm ritmica', 1), ('93%', 1), ('16 atti / min', 1), ('0.40 sec', 1), ('6.8 mg / dL', 1), ('17 mg / dL', 1), ('5mL / min', 1), ('1.5 gr / 24h', 1), ('30% di plasmacellule atipiche', 1), ('neg', 1), ('non dirimente', 1), ('38,8 ° C', 1), ('7,4', 1), ('43580 ng / ml', 1), ('0.07 g / l', 1), ('0.054 g / l', 1), ('elevata', 1), ('Non dirimenti', 1), ('0,438 mcg / L', 1), ('454 ng / ml', 1), ('11,6 UI / L', 1), ('picco 213 ng / L', 1), ('negativa-esame', 1), ('17.90', 1), ('43 Kg', 1), ('155 cm', 1), ('ai limiti inferiori del range', 1), ('15 / 30', 1), ('20 / 30', 1), ('4200 / mm3', 1), ('8.8 gr / dl', 1), ('84.9', 1), ('100000 / mm3', 1), ('1.27', 1), ('28 sec', 1), ('111 mg / dl', 1), ('73.0%', 1), ('27090.0 microg / L', 1), ('0.02 ng / ml', 1), ('202.7 ng / ml', 1), ('158.000', 1), ('1.28', 1), ('168 mg / dl', 1), ('97%', 1), ('120 / 70 mmHg', 1), ('70 bpm', 1), ('nei limiti della norma per le comorbidità', 1), ('55%', 1), ('120 sec', 1), ('allungato', 1), ('normali', 1), ('0.4%', 1), ('40 U Bethesda', 1), ('fino a oltre il 50%', 1), ('59,7%', 1), ('0,1%', 1), ('55mmHg', 1), ('50 kg', 1), ('140 / 90 mm / Hg', 1), ('60 bpm', 1), ('nei limiti', 1), ('98%', 1), ('145 / 90 mmHg', 1), ('87 bpm', 1), ('100 / 60 mmHg', 1), ('20', 1), ('36.7 ° C', 1), ('sostanzialmente nei limiti di norma', 1), ('85%', 1), ('160 / 90 MmHg', 1), ('90 bpm ritmico', 1), ('108 ms', 1), ('245 mg / dL', 1), ('2,9 mg / dL', 1), ('37 mg / dL', 1), ('2,5 mEq / L', 1), ('89 batt / min', 1), ('154 ms', 1), ('451 ms', 1), ('nel range di normalità', 1), ('9 / 10 su scala NRS', 1), ('260 / 120 mmHg', 1), ('molto alterati', 1), ('circa il 30% del corpo', 1), ('40 ° C', 1), ('9570 / mmc', 1), ('63.3%', 1), ('25.2%', 1), ('7.5%', 1), ('5 mm / h', 1), ('1.18 mg / dl', 1), ('171 U / L', 1), ('205 U / L', 1), ('202 U / L', 1), ('54 U / L', 1), ('0.61 mg / dl', 1), ('normalizzati', 1), ('320', 1), ('64', 1), ('40', 1), ('3,2 cm', 1), ('tra 3 - 4 cm', 1), ('da 1,5 a 2,5 cm', 1), ('3,5 cm', 1), ('molto positivo = U / ml 1390', 1), ('la negatività', 1), ('39 ° C', 1), ('13.000 / mmc', 1), ('43%', 1), ('10%', 1), ('44', 1), ('36 mg / l', 1), ('43 UI / l', 1), ('49UI / l', 1), ('80UI / l', 1), ('1,33', 1), ('> 0,65', 1), ('< 10 UI / ml', 1), ('6', 1), ('positività dubbia', 1), ('1,71', 1), ('12', 1), ('positività massima', 1), ('dubbie / debole positività', 1), ('La netta positivizzazione', 1), ('una debole positività', 1), ('13.4mg / L', 1), ('0,12 mg / dL', 1), ('0,09 ng / mL', 1), ('746 μmolL', 1), ('elevate concentrazioni', 1), ('normali concentrazioni', 1), ('500 mmol / mol', 1), ('nel range per l ’ età', 1), ('< 80 μg / dl', 1), ('circa 20 mm x 15 mm', 1), ('ii-iii', 1), ('840000 / mm3', 1), ('91 u / l', 1), ('59 u / l', 1), ('1978 u / l', 1), ('8,18 mg / dl', 1), ('> 50 000 ng / ml', 1), ('15,4 mui / ml', 1), ('3,75 ng / ml', 1), ('0,31 mui / ml', 1), ('0,07 mui / ml', 1), ('pari a 1 anno e 9 mesi', 1), ('9 cm', 1), ('5 cm', 1), ('< 0,02 ng / ml', 1), ('4,9 ng / ml', 1), ('< 0,1 miu / ml', 1), ('172 mg / dl', 1), ('177 mg / dl', 1), ('fino a 247 mg / dl', 1), ('fino a 745 mg / dl', 1), ('1.14', 1), ('0%', 1), ('16.620 mg / dl', 1), ('1.148 mg / dl', 1), ('20 mg / dl', 1), ('15600 mg / dl', 1), ('5080 mg / dl', 1), ('549 mg / dl', 1), ('890 mg / dl', 1), ('390 mg / dl', 1), ('431 mg / dl', 1), ('342 mg / dl', 1), ('121 mg / dl', 1), ('24%', 1), ('18 × 109 / L', 1), ('10.2 g / dl', 1), ('38 ° C', 1), ('140 / 85', 1), ('90 / 65', 1), ('98 bpm', 1), ('3,5 mg / dl', 1), ('200 mg / dl', 1), ('10 g / dl', 1), ('100 mg / dl', 1), ('1.6 mg / dl', 1), ('5.000 / mm3', 1), ('12.5 g / dL', 1), ('15.000 / mm3', 1), ('2 / 6', 1), ('kg 16.7', 1), ('7.28', 1), ('18.7mmHg', 1), ('10mmol / L', 1), ('439mg / dl', 1), ('84mg / dl', 1), ('11.7mg / dl', 1), ('2.39mg / dl', 1), ('73mEq / l', 1), ('102mEq / l', 1), ('448 U / l', 1), ('318 U / l', 1), ('1003mg / dl', 1), ('2630mg / dl', 1), ('15.7%', 1), ('7.36', 1), ('25.8mmHg', 1), ('14.3mmol / l', 1), ('254mg / dl', 1), ('non determinabile', 1), ('4.01mg / dl', 1), ('87mEq / l', 1), ('111mEq / l', 1), ('172 U / l', 1), ('109 U / l', 1), ('27 U / l', 1), ('47 U7l', 1), ('1403mg / dl', 1), ('11871mg / dl', 1), ('0.21ng / ml', 1), ('debolmente positivi', 1), ('< 2000 mg / dl', 1), ('6.9%', 1), ('indifferente', 1), ('non contributiva', 1), ('grado lieve', 1), ('non contributivi', 1), ('5 cm circa', 1), ('circa 10 - 15 cm', 1)]\n"
     ]
    }
   ],
   "source": [
    "print(Counter(RML).most_common())"
   ]
  },
  {
   "cell_type": "code",
   "execution_count": 15,
   "metadata": {},
   "outputs": [
    {
     "name": "stdout",
     "output_type": "stream",
     "text": [
      "[('esami', 12), ('Hb', 11), ('esame', 11), ('creatinina', 9), ('PA', 7), ('FC', 7), ('IgM', 7), ('PCR', 7), ('creatininemia', 6), ('GB', 6), ('trigliceridi', 6), ('N', 5), ('bilirubina', 5), ('calcemia', 4), ('peso', 4), ('BMI', 4), ('funzione', 4), ('AST', 4), ('ALT', 4), ('temperatura', 4), ('MCV', 4), ('febbre', 4), ('azotemia', 4), ('VES', 4), ('emocolture', 4), ('SpO2', 4), ('glicemia', 4), ('Ac', 4), ('diametro', 4), ('colesterolo', 4), ('antitrombina', 3), ('fosforemia', 3), ('PTH', 3), ('GR', 3), ('L', 3), ('FE', 3), ('PAPs', 3), ('HbA1c', 3), ('urea', 3), ('screening', 3), ('sodiemia', 3), ('PLT', 3), ('dosaggio', 3), ('assetto', 3), ('urinocoltura', 3), ('SUV', 3), ('Rx', 3), ('ANA', 3), ('TC', 3), ('profilo', 3), ('parametri', 3), ('test', 3), ('aPTT', 3), ('FVIII', 3), ('pressione', 3), ('HCV', 3), ('HIV', 3), ('Esame', 3), ('IgG', 3), ('PHE-S', 2), ('engagement', 2), ('ipercolesterolemia', 2), ('conta', 2), ('funzionalità', 2), ('paratormone', 2), ('protidemia', 2), ('albuminemia', 2), ('timidina', 2), ('Ca', 2), ('M', 2), ('Na +', 2), ('elettroliti', 2), ('forza', 2), ('estensione', 2), ('flessione', 2), ('obiettività', 2), ('MCH', 2), ('MCHC', 2), ('RDW', 2), ('reticolociti', 2), ('LDH', 2), ('sierologia', 2), ('autoimmunità', 2), ('emocoltura', 2), ('anticorpi', 2), ('APCA', 2), ('GOT', 2), ('GPT', 2), ('ECG', 2), ('markers', 2), ('FR', 2), ('QTc', 2), ('scintigrafia', 2), ('TAC', 2), ('T', 2), ('MMSE', 2), ('INR', 2), ('inibitore', 2), ('saturazione', 2), ('intervallo', 2), ('kaliemia', 2), ('HAV', 2), ('HBV', 2), ('borreliosi', 2), ('misura', 2), ('Ig', 2), ('Ricerca', 2), ('coltura', 2), ('volume', 2), ('aFP', 2), ('βHCG', 2), ('testosterone', 2), ('trigliceridemia', 2), ('pH', 2), ('pCO2', 2), ('HCO3', 2), ('Cl', 2), ('Na', 2), ('K', 2), ('Peptide', 2), ('protrombina', 1), ('tromboplastina', 1), ('Cockroft', 1), ('Test', 1), ('PET', 1), ('capacità', 1), ('escrezione', 1), ('R / H', 1), ('diuresi', 1), ('UF', 1), ('E', 1), ('B', 1), ('cellule', 1), ('Piastrine', 1), ('IM', 1), ('VC', 1), ('K +', 1), ('vizio', 1), ('ricerca', 1), ('iposodiemia', 1), ('sodio', 1), ('natremia', 1), ('follow-up', 1), ('Hct', 1), ('aptoglobina', 1), ('Coombs', 1), ('HbA2', 1), ('HbF', 1), ('dimensioni', 1), ('indagini', 1), ('emoglobinopatie', 1), ('HCT', 1), ('sierologie', 1), ('tampone', 1), ('biopsia', 1), ('creat', 1), ('valori', 1), ('manovra', 1), ('G.R .', 1), ('oncomarkers', 1), ('A', 1), ('ipereosinofilia', 1), ('liquor', 1), ('angiografia', 1), ('indice', 1), ('metabolismo', 1), ('P.C', 1), ('poliuria', 1), ('PAS', 1), ('Acinetobacter', 1), ('ipernatremia', 1), ('Ca +', 1), ('controllo', 1), ('EO', 1), ('PV', 1), ('imaging', 1), ('typhi', 1), ('coprocolture', 1), ('ACTH', 1), ('leucopenia', 1), ('piastrinopenia', 1), ('sierodiagnosi', 1), ('mono-test', 1), ('AMA', 1), ('anti-Leishmania', 1), ('GCS', 1), ('ipercalcemia', 1), ('ClCrea', 1), ('proteinuria', 1), ('immunofissazione', 1), ('paraproteinemia', 1), ('catene', 1), ('BOM', 1), ('FEV1 / FVC', 1), ('RX', 1), ('Ecocardiogramma', 1), ('lattati', 1), ('D-Dimero', 1), ('studio', 1), ('C1INH', 1), ('C4', 1), ('flogosi', 1), ('ENA-SSB', 1), ('RA', 1), ('Anti-CCP', 1), ('indici', 1), ('paramentri', 1), ('colturali', 1), ('virologici', 1), ('quantiferon', 1), ('ecocardiogramma', 1), ('Mio', 1), ('CKMB', 1), ('cTnI', 1), ('EGDS', 1), ('Rachicentesi', 1), ('IMC', 1), ('PC', 1), ('H', 1), ('sideremia', 1), ('WBC', 1), ('PTT', 1), ('Fibrinogeno', 1), ('Antitrombina', 1), ('Ddimeri', 1), ('marcatori', 1), ('procalcitonina', 1), ('ferritina', 1), ('fibrinogeno', 1), ('fattori', 1), ('Fattore', 1), ('enzimi', 1), ('PAPS', 1), ('Streptococcus', 1), ('calo', 1), ('Pressione', 1), ('frequenza', 1), ('Obbiettività', 1), (\"L'obbiettività\", 1), ('emocromo', 1), ('coagulazione', 1), ('Pa', 1), ('F.C .', 1), ('necrosi', 1), ('F.C', 1), ('dolore', 1), (\"l'estensione\", 1), ('GT', 1), ('ALP', 1), ('TBE', 1), ('Mantoux', 1), ('Emocoltura', 1), ('staphylococco', 1), ('MTD', 1), ('mycobatterium', 1), ('BAAR', 1), ('mantoux', 1), ('neutrofili', 1), ('linfociti', 1), ('luc', 1), ('GGT', 1), ('catalasi', 1), ('cefinase', 1), ('IFI', 1), (\"L'esame\", 1), ('Pseudomonas', 1), ('tossine', 1), ('Procalcitonina', 1), ('RMN', 1), ('iperammoniemia', 1), ('glutammina', 1), ('ornitina', 1), ('citrullina', 1), ('Creatinina', 1), ('ammoniemia', 1), ('tumefazione', 1), ('diametri', 1), ('RM', 1), ('tanner', 1), ('GPt', 1), ('Got', 1), ('latticodeidrogenasi', 1), ('proteina', 1), ('FsH', 1), ('lH', 1), ('età', 1), ('Greulich & Pyle', 1), ('lunghezza', 1), ('colesterolemia', 1), ('ipertrigliceridemia', 1), ('index', 1), ('MMR', 1), ('ipertriglieridemia', 1), ('totale', 1), ('Hdl', 1), ('ipofibrinogenemia', 1), ('PT', 1), ('leucocitosi', 1), ('piastrine', 1), ('soffio', 1), ('Peso', 1), ('uricemia', 1), ('Colesterolo', 1), ('chetoni', 1), ('glucosio', 1), ('amilasi', 1), ('lipasi', 1), ('IA2', 1), ('GAD', 1), ('anti-insulina', 1), ('ICA', 1), ('ANCA', 1), ('LKM', 1), ('ENA', 1), ('EMA', 1), ('tTG', 1), ('controlli', 1), ('HLA', 1), ('Funzionalità', 1), ('fundus', 1), ('ecografia', 1), ('ecocolordoppler', 1), ('valutazione', 1), ('coprocultura', 1), ('patogenicità', 1), ('iperglicemia', 1), ('retto-colon-scopia', 1), ('clisma-TC', 1), ('VIP', 1), ('cromogranine', 1), ('segmento', 1)]\n"
     ]
    }
   ],
   "source": [
    "print(Counter(TST).most_common())"
   ]
  }
 ],
 "metadata": {
  "kernelspec": {
   "display_name": ".venv",
   "language": "python",
   "name": "python3"
  },
  "language_info": {
   "codemirror_mode": {
    "name": "ipython",
    "version": 3
   },
   "file_extension": ".py",
   "mimetype": "text/x-python",
   "name": "python",
   "nbconvert_exporter": "python",
   "pygments_lexer": "ipython3",
   "version": "3.12.1"
  }
 },
 "nbformat": 4,
 "nbformat_minor": 2
}
