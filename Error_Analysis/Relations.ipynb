{
 "cells": [
  {
   "cell_type": "code",
   "execution_count": 1,
   "metadata": {},
   "outputs": [],
   "source": [
    "from utils import get_gold_relations, get_pred_relations, analyze_relations, get_total_num_of_preds, get_total_num_of_relations\n",
    "import pandas as pd\n",
    "from collections import Counter"
   ]
  },
  {
   "cell_type": "code",
   "execution_count": 16,
   "metadata": {},
   "outputs": [],
   "source": [
    "lang = \"eu\"\n",
    "true = get_gold_relations(lang)"
   ]
  },
  {
   "cell_type": "code",
   "execution_count": 26,
   "metadata": {},
   "outputs": [],
   "source": [
    "def qualitative_analysis_of_relation_errors(lang, model, type=\"missed\"):\n",
    "    pred = get_pred_relations(lang, model)\n",
    "    missed, spurious, partial = analyze_relations(true,pred)\n",
    "    missed = [(m[0], m[1]) for m in missed]\n",
    "    partial = [(m[0], m[1]) for m in partial]\n",
    "    spurious = [(m[0], m[1]) for m in spurious]\n",
    "\n",
    "    def analyse(relations):\n",
    "        # Analyzing most common RML entities\n",
    "        rml_entities = [relation[0] for relation in relations]\n",
    "        rml_counter = Counter(rml_entities)\n",
    "        most_common_rml = rml_counter.most_common()\n",
    "        print(\"Most Common RML Entities:\", most_common_rml)\n",
    "\n",
    "        # Analyzing most common TST entities\n",
    "        tst_entities = [relation[1] for relation in relations]\n",
    "        tst_counter = Counter(tst_entities)\n",
    "        most_common_tst = tst_counter.most_common()\n",
    "        print(\"Most Common TST Entities:\", most_common_tst)\n",
    "\n",
    "        # Analyzing most common pairs\n",
    "        pair_counter = Counter(relations)\n",
    "        most_common_pairs = pair_counter.most_common()\n",
    "        print(\"Most Common Relations\", most_common_pairs)\n",
    "\n",
    "    if type == \"missed\":\n",
    "        analyse(missed)\n",
    "    elif type == \"partial\":\n",
    "        analyse(partial)\n",
    "    else:\n",
    "        analyse(spurious)\n",
    "\n",
    "    return missed, spurious, partial\n",
    "\n",
    "\n"
   ]
  },
  {
   "cell_type": "code",
   "execution_count": 27,
   "metadata": {},
   "outputs": [
    {
     "name": "stdout",
     "output_type": "stream",
     "text": [
      "mbert\n",
      "Most Common RML Entities: [('normala', 32), ('normalak', 27), ('positiboa', 7), ('negatiboa', 4), ('emaitza normalak', 4), ('SBA', 3), ('+', 3), ('normala/handitua', 2), ('7 puntu', 2), ('moderatu-larria', 2), ('larria', 2), ('42.9', 2), ('ondo', 2), ('anormala', 2), ('2 mm', 1), ('10 mm', 1), ('% 99', 1), ('98 tau/min', 1), ('144/83 mm Hg', 1), ('39 ºC-ko', 1), ('80 kg', 1), ('140/95 mmHg', 1), ('% 45', 1), ('45 mg/dL', 1), ('140/97 mm-Hg', 1), ('1,65 m', 1), ('235 mg/dL', 1), ('75 orduko', 1), ('1240 UI/mL', 1), ('ezezkoak', 1), ('2048ko titulua', 1), ('74 mg/L', 1), ('15.000 leukozito/mm3', 1), ('%80S', 1), ('zalantzatsua', 1), ('17mm', 1), ('10mm', 1), ('86 l/m', 1), ('%21', 1), ('3 cm- ko diametroko', 1), ('%7ko', 1), ('178,9U/L', 1), ('maila altua', 1), ('14 mm-ko', 1), ('3-10 hematie / kanpo', 1), ('36,6 ̊C', 1), ('19 cm-ko', 1), ('444 ng/ml', 1), ('1,44 mg/dl', 1), ('80 taup', 1), ('10 cm-ko', 1), ('100', 1), ('mingarria', 1), ('osoa', 1), ('90', 1), ('38ºC', 1), ('altu', 1), ('1 cm-ko diametrokoa', 1), ('0-120º', 1), (\"5'87 mmol/L\", 1), ('120/73', 1), ('10.500/ul', 1), ('normal', 1), (\"27'67 mg/dl\", 1), ('36.3º', 1), ('133/88 mmHg', 1), ('40ºC-rainoko', 1), ('ohiko baloreen gainetik', 1), ('%25a', 1), ('3.22', 1), ('500', 1), ('0.21', 1), ('4.6', 1), ('%23.7', 1), ('2%', 1), ('8 kg-ko', 1), ('36,6ºC', 1), ('adinerako balore normal eta altuaren arteko mugan', 1), ('50 taupada/min', 1), ('90-95.pertzentila', 1), ('gehiengoa 39.9ºC', 1), ('arrunta', 1), ('%50era', 1), ('normaltasunean', 1)]\n",
      "Most Common TST Entities: [('erradiografia', 4), ('Azterketa', 3), ('PCR', 3), ('sukarra', 3), ('Tentsio', 2), ('exudatua', 2), ('OTA', 2), ('ziztada', 2), ('L', 2), ('Mantouxa', 2), ('EKG', 2), ('lesio', 2), ('esplenomegalia', 2), ('auskultazioa', 2), ('EMG', 2), ('ENG', 2), ('BA', 2), ('traza', 2), ('analisia', 2), ('Tª', 2), ('miaketa', 2), ('Gainontzekoa', 2), ('Hematieak', 2), ('Miaketa', 2), ('tentsio', 2), ('azterketa', 1), ('ez-aktiboa', 1), ('Tamaina', 1), ('aktiboa', 1), ('tamainaz', 1), ('Pultsu', 1), ('O2Sat', 1), ('bihotz-maiztasuna', 1), ('tenperatura', 1), ('testa', 1), ('pisatzen', 1), ('hipertentsio', 1), ('frakzioa', 1), ('HDL-kolesterola', 1), ('luze', 1), ('Triglizeridoen', 1), ('kolesterol', 1), ('ikus-eskala', 1), ('EVA', 1), ('Erradiografia', 1), ('indizea', 1), ('biokimika', 1), ('Elektrokardiograma', 1), ('hemograma', 1), ('Elektroentzefalograma', 1), ('tiroide-hormonak', 1), ('ekokardiograma', 1), ('antiestreptolisina-O', 1), ('faringe-frotis', 1), ('Hemokultiboa', 1), ('Analisiak', 1), ('tomografia', 1), ('proba', 1), ('antigorputzak', 1), ('Analitikan', 1), ('Murphy', 1), ('antigenoa', 1), ('Transaminasak', 1), ('Mycobacterium', 1), ('interferoia', 1), ('Fi', 1), ('bizi-konstante', 1), ('Parasitazio', 1), ('lipasa', 1), ('odol-analisiko', 1), ('laktato', 1), ('Urokultiboa', 1), ('GERNU-ZITOLOGIA', 1), ('Gernu-analisia', 1), ('iragazketa', 1), ('min.Tenperatura', 1), ('gluzemia', 1), ('Hezur-serie', 1), ('pultsuak', 1), ('Ferritina', 1), ('koagulazio-azterketa', 1), ('Urea', 1), ('erreflexuak', 1), ('Bilirrubina', 1), ('Hg.BM', 1), ('elektrolitoak', 1), ('kolesterola', 1), ('sentikortasuna', 1), ('azido', 1), ('angiografia', 1), ('Kolonoskopia', 1), ('flexioa', 1), ('Sentsibilitate', 1), ('Abdukzioa', 1), ('Fabere', 1), ('erreaktanteak', 1), ('errinoskopia', 1), ('zulaketa', 1), ('Mugikortasun', 1), ('giltzurrun-perkusio', 1), ('Pultsoak', 1), ('potasioa', 1), ('FISIKOATA', 1), ('neutrofiloak', 1), ('gainerakoa', 1), ('M', 1), ('Koagulazioa', 1), ('plaketak', 1), ('leukozitoak', 1), ('Biokimika', 1), ('ANALITIKA', 1), ('Pare', 1), ('Odol-analisia', 1), ('Tentsio-arteriala', 1), ('Otoskopia', 1), ('giltzurrun-funtzioa', 1), ('Glukosa', 1), ('Arnasketa', 1), ('Zirkulazio', 1), ('Jokabide', 1), ('TEP', 1), ('entzimak', 1), ('gutxiegitasun', 1), ('Esterasa', 1), ('Prokaltzitonina', 1), ('Hemostasia', 1), ('GPT', 1), ('erretikulozitoak', 1), ('galera', 1), ('bradikardia', 1), ('parametroak', 1), ('Explorazio', 1), ('VMK', 1), ('egindakofroga', 1)]\n",
      "Most Common Relations [(('normala', 'erradiografia'), 3), (('SBA', 'exudatua'), 2), (('normala', 'Azterketa'), 2), (('normala', 'Gainontzekoa'), 2), (('normala', 'Miaketa'), 2), (('normala', 'azterketa'), 1), (('2 mm', 'ez-aktiboa'), 1), (('normala/handitua', 'Tamaina'), 1), (('10 mm', 'aktiboa'), 1), (('normala/handitua', 'tamainaz'), 1), (('normalak', 'Pultsu'), 1), (('% 99', 'O2Sat'), 1), (('98 tau/min', 'bihotz-maiztasuna'), 1), (('144/83 mm Hg', 'Tentsio'), 1), (('39 ºC-ko', 'tenperatura'), 1), (('positiboa', 'testa'), 1), (('80 kg', 'pisatzen'), 1), (('140/95 mmHg', 'hipertentsio'), 1), (('% 45', 'frakzioa'), 1), (('45 mg/dL', 'HDL-kolesterola'), 1), (('140/97 mm-Hg', 'Tentsio'), 1), (('1,65 m', 'luze'), 1), (('normala', 'Triglizeridoen'), 1), (('235 mg/dL', 'kolesterol'), 1), (('7 puntu', 'ikus-eskala'), 1), (('7 puntu', 'EVA'), 1), (('normala', 'Erradiografia'), 1), (('75 orduko', 'indizea'), 1), (('normalak', 'biokimika'), 1), (('normalak', 'Elektrokardiograma'), 1), (('normalak', 'hemograma'), 1), (('normala', 'Elektroentzefalograma'), 1), (('normalak', 'tiroide-hormonak'), 1), (('normalak', 'erradiografia'), 1), (('normalak', 'ekokardiograma'), 1), (('1240 UI/mL', 'antiestreptolisina-O'), 1), (('normalak', 'Azterketa'), 1), (('negatiboa', 'faringe-frotis'), 1), (('SBA', 'Hemokultiboa'), 1), (('emaitza normalak', 'OTA'), 1), (('emaitza normalak', 'ziztada'), 1), (('emaitza normalak', 'Analisiak'), 1), (('emaitza normalak', 'tomografia'), 1), (('ezezkoak', 'proba'), 1), (('2048ko titulua', 'antigorputzak'), 1), (('74 mg/L', 'PCR'), 1), (('15.000 leukozito/mm3', 'Analitikan'), 1), (('+', 'Murphy'), 1), (('%80S', 'L'), 1), (('zalantzatsua', 'antigenoa'), 1), (('normalak', 'Transaminasak'), 1), (('17mm', 'Mantouxa'), 1), (('positiboa', 'Mycobacterium'), 1), (('positiboa', 'ziztada'), 1), (('positiboa', 'interferoia'), 1), (('10mm', 'Mantouxa'), 1), (('86 l/m', 'EKG'), 1), (('%21', 'Fi'), 1), (('3 cm- ko diametroko', 'lesio'), 1), (('normalak', 'bizi-konstante'), 1), (('+', 'PCR'), 1), (('%7ko', 'Parasitazio'), 1), (('178,9U/L', 'lipasa'), 1), (('normalak', 'odol-analisiko'), 1), (('maila altua', 'laktato'), 1), (('14 mm-ko', 'lesio'), 1), (('negatiboa', 'Urokultiboa'), 1), (('negatiboa', 'GERNU-ZITOLOGIA'), 1), (('3-10 hematie / kanpo', 'Gernu-analisia'), 1), (('normalak', 'iragazketa'), 1), (('36,6 ̊C', 'min.Tenperatura'), 1), (('normalak', 'gluzemia'), 1), (('normala', 'Hezur-serie'), 1), (('normalak', 'pultsuak'), 1), (('19 cm-ko', 'esplenomegalia'), 1), (('444 ng/ml', 'Ferritina'), 1), (('normala', 'auskultazioa'), 1), (('normalak', 'koagulazio-azterketa'), 1), (('normalak', 'Urea'), 1), (('normalak', 'erreflexuak'), 1), (('1,44 mg/dl', 'Bilirrubina'), 1), (('80 taup', 'Hg.BM'), 1), (('normalak', 'elektrolitoak'), 1), (('normalak', 'kolesterola'), 1), (('normala', 'EKG'), 1), (('normalak', 'sentikortasuna'), 1), (('10 cm-ko', 'esplenomegalia'), 1), (('normalak', 'azido'), 1), (('moderatu-larria', 'EMG'), 1), (('normala', 'OTA'), 1), (('larria', 'ENG'), 1), (('normala', 'angiografia'), 1), (('larria', 'EMG'), 1), (('normala', 'Kolonoskopia'), 1), (('moderatu-larria', 'ENG'), 1), (('100', 'flexioa'), 1), (('mingarria', 'BA'), 1), (('normala', 'Sentsibilitate'), 1), (('osoa', 'BA'), 1), (('90', 'Abdukzioa'), 1), (('positiboa', 'Fabere'), 1), (('38ºC', 'sukarra'), 1), (('altu', 'erreaktanteak'), 1), (('42.9', 'traza'), 1), (('42.9', 'analisia'), 1), (('positiboa', 'analisia'), 1), (('positiboa', 'traza'), 1), (('normala', 'errinoskopia'), 1), (('1 cm-ko diametrokoa', 'zulaketa'), 1), (('0-120º', 'Mugikortasun'), 1), (('normala', 'giltzurrun-perkusio'), 1), (('normalak', 'Pultsoak'), 1), ((\"5'87 mmol/L\", 'potasioa'), 1), (('120/73', 'FISIKOATA'), 1), (('10.500/ul', 'neutrofiloak'), 1), (('normal', 'gainerakoa'), 1), ((\"27'67 mg/dl\", 'PCR'), 1), (('+', 'M'), 1), (('normala', 'Koagulazioa'), 1), (('ondo', 'plaketak'), 1), (('ondo', 'leukozitoak'), 1), (('normala', 'Biokimika'), 1), (('36.3º', 'Tª'), 1), (('normala', 'ANALITIKA'), 1), (('normalak', 'Pare'), 1), (('normala', 'Odol-analisia'), 1), (('133/88 mmHg', 'Tentsio-arteriala'), 1), (('normala', 'Otoskopia'), 1), (('normalak', 'giltzurrun-funtzioa'), 1), (('normalak', 'Glukosa'), 1), (('40ºC-rainoko', 'sukarra'), 1), (('negatiboa', 'miaketa'), 1), (('anormala', 'Arnasketa'), 1), (('normala', 'Zirkulazio'), 1), (('normala', 'Jokabide'), 1), (('anormala', 'TEP'), 1), (('normalak', 'auskultazioa'), 1), (('ohiko baloreen gainetik', 'entzimak'), 1), (('%25a', 'gutxiegitasun'), 1), (('3.22', 'Hematieak'), 1), (('500', 'Esterasa'), 1), (('0.21', 'Prokaltzitonina'), 1), (('4.6', 'Hematieak'), 1), (('%23.7', 'L'), 1), (('normala', 'Hemostasia'), 1), (('normala', 'GPT'), 1), (('2%', 'erretikulozitoak'), 1), (('8 kg-ko', 'galera'), 1), (('36,6ºC', 'Tª'), 1), (('adinerako balore normal eta altuaren arteko mugan', 'tentsio'), 1), (('50 taupada/min', 'bradikardia'), 1), (('90-95.pertzentila', 'tentsio'), 1), (('gehiengoa 39.9ºC', 'sukarra'), 1), (('normalak', 'parametroak'), 1), (('normala', 'Explorazio'), 1), (('arrunta', 'miaketa'), 1), (('%50era', 'VMK'), 1), (('normaltasunean', 'egindakofroga'), 1)]\n",
      "\n",
      "xlmroberta\n",
      "Most Common RML Entities: [('emaitza normalak', 4), ('positiboa', 4), ('normalak', 4), ('SBA', 3), ('normala', 2), ('7 puntu', 2), ('larria', 2), ('moderatu-larria', 2), ('ondo', 2), ('minutuko 75 taupadako', 2), ('10 mm', 1), ('normala/handitua', 1), ('80 kg', 1), ('140/95 mmHg', 1), ('% 45', 1), ('1,65 m', 1), ('75 orduko', 1), ('ezezkoak', 1), ('15.000 leukozito/mm3', 1), ('256', 1), ('zalantzatsua', 1), ('2048ko titulua', 1), ('3 cm- ko diametroko', 1), ('980,00kUA/L', 1), ('178,9U/L', 1), ('221U/L', 1), ('maila altua', 1), ('3-10 hematie / kanpo', 1), ('36,6 ̊C', 1), ('80 taup', 1), ('10 cm-ko', 1), ('100', 1), ('osoa', 1), ('mingarria', 1), ('1 cm-ko diametrokoa', 1), ('0-120º', 1), (\"27'67 mg/dl\", 1), ('+', 1), ('ohiko baloreen gainetik', 1), ('%25a', 1), ('95%', 1), ('%4.7', 1), ('%89.6', 1), ('500', 1), ('%64', 1), ('%23.7', 1), ('8 kg-ko', 1), ('36,6ºC', 1), ('adinerako balore normal eta altuaren arteko mugan', 1), ('balore normaletara', 1), ('90-95.pertzentila', 1), ('arrunta', 1), ('%85eko', 1), ('normaltasunean', 1)]\n",
      "Most Common TST Entities: [('exudatua', 2), ('antigorputzak', 2), ('EMG', 2), ('ENG', 2), ('BA', 2), ('L', 2), ('N', 2), ('tentsio', 2), ('azterketa', 1), ('aktiboa', 1), ('tamainaz', 1), ('pisatzen', 1), ('hipertentsio', 1), ('frakzioa', 1), ('luze', 1), ('ikus-eskala', 1), ('EVA', 1), ('indizea', 1), ('Hemokultiboa', 1), ('OTA', 1), ('ziztada', 1), ('Analisiak', 1), ('tomografia', 1), ('proba', 1), ('Analitikan', 1), ('antigenoa', 1), ('Mycobacterium', 1), ('lesio', 1), ('IgE', 1), ('lipasa', 1), ('amilasa', 1), ('laktato', 1), ('Gernu-analisia', 1), ('pultsuak', 1), ('indarra', 1), ('min.Tenperatura', 1), ('erreflexuak', 1), ('sentikortasuna', 1), ('Hg.BM', 1), ('esplenomegalia', 1), ('flexioa', 1), ('Fabere', 1), ('analisia', 1), ('traza', 1), ('zulaketa', 1), ('Mugikortasun', 1), ('PCR', 1), ('M', 1), ('leukozitoak', 1), ('plaketak', 1), ('Jokabide', 1), ('entzimak', 1), ('gutxiegitasun', 1), ('EKG', 1), ('erritmo', 1), ('asetasuna', 1), ('Esterasa', 1), ('galera', 1), ('Tª', 1), ('maiztasuna', 1), ('miaketa', 1), ('saturazioa', 1), ('egindakofroga', 1)]\n",
      "Most Common Relations [(('SBA', 'exudatua'), 2), (('normala', 'azterketa'), 1), (('10 mm', 'aktiboa'), 1), (('normala/handitua', 'tamainaz'), 1), (('80 kg', 'pisatzen'), 1), (('140/95 mmHg', 'hipertentsio'), 1), (('% 45', 'frakzioa'), 1), (('1,65 m', 'luze'), 1), (('7 puntu', 'ikus-eskala'), 1), (('7 puntu', 'EVA'), 1), (('75 orduko', 'indizea'), 1), (('SBA', 'Hemokultiboa'), 1), (('emaitza normalak', 'OTA'), 1), (('emaitza normalak', 'ziztada'), 1), (('emaitza normalak', 'Analisiak'), 1), (('emaitza normalak', 'tomografia'), 1), (('ezezkoak', 'proba'), 1), (('15.000 leukozito/mm3', 'Analitikan'), 1), (('256', 'antigorputzak'), 1), (('zalantzatsua', 'antigenoa'), 1), (('2048ko titulua', 'antigorputzak'), 1), (('positiboa', 'Mycobacterium'), 1), (('3 cm- ko diametroko', 'lesio'), 1), (('980,00kUA/L', 'IgE'), 1), (('178,9U/L', 'lipasa'), 1), (('221U/L', 'amilasa'), 1), (('maila altua', 'laktato'), 1), (('3-10 hematie / kanpo', 'Gernu-analisia'), 1), (('normalak', 'pultsuak'), 1), (('normalak', 'indarra'), 1), (('36,6 ̊C', 'min.Tenperatura'), 1), (('normalak', 'erreflexuak'), 1), (('normalak', 'sentikortasuna'), 1), (('80 taup', 'Hg.BM'), 1), (('10 cm-ko', 'esplenomegalia'), 1), (('larria', 'EMG'), 1), (('moderatu-larria', 'EMG'), 1), (('moderatu-larria', 'ENG'), 1), (('larria', 'ENG'), 1), (('100', 'flexioa'), 1), (('osoa', 'BA'), 1), (('mingarria', 'BA'), 1), (('positiboa', 'Fabere'), 1), (('positiboa', 'analisia'), 1), (('positiboa', 'traza'), 1), (('1 cm-ko diametrokoa', 'zulaketa'), 1), (('0-120º', 'Mugikortasun'), 1), ((\"27'67 mg/dl\", 'PCR'), 1), (('+', 'M'), 1), (('ondo', 'leukozitoak'), 1), (('ondo', 'plaketak'), 1), (('normala', 'Jokabide'), 1), (('ohiko baloreen gainetik', 'entzimak'), 1), (('%25a', 'gutxiegitasun'), 1), (('minutuko 75 taupadako', 'EKG'), 1), (('minutuko 75 taupadako', 'erritmo'), 1), (('95%', 'asetasuna'), 1), (('%4.7', 'L'), 1), (('%89.6', 'N'), 1), (('500', 'Esterasa'), 1), (('%64', 'N'), 1), (('%23.7', 'L'), 1), (('8 kg-ko', 'galera'), 1), (('36,6ºC', 'Tª'), 1), (('adinerako balore normal eta altuaren arteko mugan', 'tentsio'), 1), (('balore normaletara', 'maiztasuna'), 1), (('90-95.pertzentila', 'tentsio'), 1), (('arrunta', 'miaketa'), 1), (('%85eko', 'saturazioa'), 1), (('normaltasunean', 'egindakofroga'), 1)]\n",
      "\n",
      "biobert\n",
      "Most Common RML Entities: [('normalak', 13), ('emaitza normalak', 4), ('positiboa', 4), ('normala', 4), ('SBA', 3), ('+', 3), ('normala/handitua', 2), ('7 puntu', 2), ('larria', 2), ('moderatu-larria', 2), ('anormala', 2), ('positiboak', 1), ('80 kg', 1), ('140/95 mmHg', 1), ('1,6 m', 1), ('150 mg/dL', 1), ('1,65 m', 1), ('65 kg', 1), ('45 mg/dL', 1), ('ezezkoak', 1), ('2048ko titulua', 1), ('15.000 leukozito/mm3', 1), ('zalantzatsua', 1), ('256', 1), ('%80S', 1), ('3 cm- ko diametroko', 1), ('negatiboa', 1), ('178,9U/L', 1), ('221U/L', 1), ('maila altua', 1), ('3-10 hematie / kanpo', 1), ('202 u/L', 1), ('36,6 ̊C', 1), ('80 taup', 1), ('10 cm-ko', 1), ('mingarria', 1), ('osoa', 1), ('negatiboak', 1), ('altu', 1), ('42.9', 1), ('1 cm-ko diametrokoa', 1), ('0-120º', 1), (\"5'87 mmol/L\", 1), (\"3'24 g/dl\", 1), (\"27'67 mg/dl\", 1), ('129 mmol/L', 1), ('7 mm-rainoko', 1), ('40ºC-rainoko', 1), ('ohiko baloreen gainetik', 1), ('minutuko 75 taupadako', 1), ('%25a', 1), ('500', 1), ('++', 1), ('8 kg-ko', 1), ('arrunta', 1), ('%85eko', 1), ('normaltasunean', 1)]\n",
      "Most Common TST Entities: [('pisatzen', 2), ('exudatua', 2), ('proba', 2), ('antigorputzak', 2), ('EMG', 2), ('ENG', 2), ('BA', 2), ('traza', 2), ('Tamaina', 1), ('tamainaz', 1), ('test', 1), ('hipertentsio', 1), ('altuera', 1), ('LDL-kolesterola', 1), ('luze', 1), ('HDL-kolesterola', 1), ('ikus-eskala', 1), ('EVA', 1), ('Hemokultiboa', 1), ('OTA', 1), ('ziztada', 1), ('Analisiak', 1), ('tomografia', 1), ('Analitikan', 1), ('Murphy', 1), ('antigenoa', 1), ('L', 1), ('Mycobacterium', 1), ('lesio', 1), ('bizi-konstante', 1), ('lipasa', 1), ('odol-analisiko', 1), ('amilasa', 1), ('laktato', 1), ('Gernu-analisia', 1), ('Hezur-serie', 1), ('pultsuak', 1), ('tonua', 1), ('indarra', 1), ('entzima', 1), ('koagulazio-azterketa', 1), ('min.Tenperatura', 1), ('erreflexuak', 1), ('elektrolitoak', 1), ('Hg.BM', 1), ('sentikortasuna', 1), ('esplenomegalia', 1), ('Fabere', 1), ('hazkuntza', 1), ('erreaktanteak', 1), ('analisia', 1), ('zulaketa', 1), ('Mugikortasun', 1), ('giltzurrun-perkusio', 1), ('Pultsoak', 1), ('potasioa', 1), ('albumina', 1), ('PCR', 1), ('sodioa', 1), ('M', 1), ('Pare', 1), ('Odol-analisia', 1), ('loditze', 1), ('giltzurrun-funtzioa', 1), ('Arnasketa', 1), ('sukarra', 1), ('TEP', 1), ('Flapping', 1), ('auskultazioa', 1), ('entzimak', 1), ('erritmo', 1), ('gutxiegitasun', 1), ('Esterasa', 1), ('nitritoak', 1), ('galera', 1), ('Explorazio', 1), ('miaketa', 1), ('saturazioa', 1), ('egindakofroga', 1)]\n",
      "Most Common Relations [(('SBA', 'exudatua'), 2), (('normala/handitua', 'Tamaina'), 1), (('normala/handitua', 'tamainaz'), 1), (('positiboak', 'test'), 1), (('80 kg', 'pisatzen'), 1), (('140/95 mmHg', 'hipertentsio'), 1), (('1,6 m', 'altuera'), 1), (('150 mg/dL', 'LDL-kolesterola'), 1), (('1,65 m', 'luze'), 1), (('65 kg', 'pisatzen'), 1), (('45 mg/dL', 'HDL-kolesterola'), 1), (('7 puntu', 'ikus-eskala'), 1), (('7 puntu', 'EVA'), 1), (('SBA', 'Hemokultiboa'), 1), (('emaitza normalak', 'OTA'), 1), (('emaitza normalak', 'ziztada'), 1), (('emaitza normalak', 'Analisiak'), 1), (('emaitza normalak', 'tomografia'), 1), (('ezezkoak', 'proba'), 1), (('2048ko titulua', 'antigorputzak'), 1), (('15.000 leukozito/mm3', 'Analitikan'), 1), (('+', 'Murphy'), 1), (('zalantzatsua', 'antigenoa'), 1), (('256', 'antigorputzak'), 1), (('%80S', 'L'), 1), (('positiboa', 'Mycobacterium'), 1), (('3 cm- ko diametroko', 'lesio'), 1), (('normalak', 'bizi-konstante'), 1), (('negatiboa', 'proba'), 1), (('178,9U/L', 'lipasa'), 1), (('normalak', 'odol-analisiko'), 1), (('221U/L', 'amilasa'), 1), (('maila altua', 'laktato'), 1), (('3-10 hematie / kanpo', 'Gernu-analisia'), 1), (('normala', 'Hezur-serie'), 1), (('normalak', 'pultsuak'), 1), (('normalak', 'tonua'), 1), (('normalak', 'indarra'), 1), (('202 u/L', 'entzima'), 1), (('normalak', 'koagulazio-azterketa'), 1), (('36,6 ̊C', 'min.Tenperatura'), 1), (('normalak', 'erreflexuak'), 1), (('normalak', 'elektrolitoak'), 1), (('80 taup', 'Hg.BM'), 1), (('normalak', 'sentikortasuna'), 1), (('10 cm-ko', 'esplenomegalia'), 1), (('larria', 'EMG'), 1), (('moderatu-larria', 'EMG'), 1), (('moderatu-larria', 'ENG'), 1), (('larria', 'ENG'), 1), (('mingarria', 'BA'), 1), (('osoa', 'BA'), 1), (('positiboa', 'Fabere'), 1), (('negatiboak', 'hazkuntza'), 1), (('altu', 'erreaktanteak'), 1), (('positiboa', 'analisia'), 1), (('42.9', 'traza'), 1), (('positiboa', 'traza'), 1), (('1 cm-ko diametrokoa', 'zulaketa'), 1), (('0-120º', 'Mugikortasun'), 1), (('normala', 'giltzurrun-perkusio'), 1), (('normalak', 'Pultsoak'), 1), ((\"5'87 mmol/L\", 'potasioa'), 1), ((\"3'24 g/dl\", 'albumina'), 1), ((\"27'67 mg/dl\", 'PCR'), 1), (('129 mmol/L', 'sodioa'), 1), (('+', 'M'), 1), (('normalak', 'Pare'), 1), (('normala', 'Odol-analisia'), 1), (('7 mm-rainoko', 'loditze'), 1), (('normalak', 'giltzurrun-funtzioa'), 1), (('anormala', 'Arnasketa'), 1), (('40ºC-rainoko', 'sukarra'), 1), (('anormala', 'TEP'), 1), (('+', 'Flapping'), 1), (('normalak', 'auskultazioa'), 1), (('ohiko baloreen gainetik', 'entzimak'), 1), (('minutuko 75 taupadako', 'erritmo'), 1), (('%25a', 'gutxiegitasun'), 1), (('500', 'Esterasa'), 1), (('++', 'nitritoak'), 1), (('8 kg-ko', 'galera'), 1), (('normala', 'Explorazio'), 1), (('arrunta', 'miaketa'), 1), (('%85eko', 'saturazioa'), 1), (('normaltasunean', 'egindakofroga'), 1)]\n",
      "\n",
      "mbert_multilingual\n",
      "Most Common RML Entities: [('normala', 32), ('normalak', 29), ('positiboa', 7), ('negatiboa', 5), ('emaitza normalak', 4), ('SBA', 3), ('+', 3), ('normala/handitua', 2), ('7 puntu', 2), ('moderatu-larria', 2), ('larria', 2), ('42.9', 2), ('ondo', 2), ('anormala', 2), ('2 mm', 1), ('10 mm', 1), ('% 99', 1), ('98 tau/min', 1), ('144/83 mm Hg', 1), ('39 ºC-ko', 1), ('80 kg', 1), ('140/95 mmHg', 1), ('% 45', 1), ('45 mg/dL', 1), ('140/97 mm-Hg', 1), ('1,65 m', 1), ('235 mg/dL', 1), ('75 orduko', 1), ('1240 UI/mL', 1), ('ezezkoak', 1), ('2048ko titulua', 1), ('74 mg/L', 1), ('15.000 leukozito/mm3', 1), ('%80S', 1), ('zalantzatsua', 1), ('17mm', 1), ('10mm', 1), ('86 l/m', 1), ('%21', 1), ('3 cm- ko diametroko', 1), ('%7ko', 1), ('178,9U/L', 1), ('221U/L', 1), ('maila altua', 1), ('3-10 hematie / kanpo', 1), ('36,6 ̊C', 1), ('19 cm-ko', 1), ('444 ng/ml', 1), ('1,44 mg/dl', 1), ('80 taup', 1), ('10 cm-ko', 1), ('100', 1), ('mingarria', 1), ('osoa', 1), ('90', 1), ('38ºC', 1), ('altu', 1), ('1 cm-ko diametrokoa', 1), ('0-120º', 1), (\"5'87 mmol/L\", 1), ('120/73', 1), ('10.500/ul', 1), ('normal', 1), ('129 mmol/L', 1), (\"27'67 mg/dl\", 1), ('36.3º', 1), ('133/88 mmHg', 1), ('40ºC-rainoko', 1), ('ohiko baloreen gainetik', 1), ('%25a', 1), ('3.22', 1), ('500', 1), ('0.21', 1), ('4.6', 1), ('%23.7', 1), ('2%', 1), ('8 kg-ko', 1), ('36,6ºC', 1), ('adinerako balore normal eta altuaren arteko mugan', 1), ('50 taupada/min', 1), ('90-95.pertzentila', 1), ('gehiengoa 39.9ºC', 1), ('arrunta', 1), ('%50era', 1), ('normaltasunean', 1)]\n",
      "Most Common TST Entities: [('erradiografia', 4), ('Azterketa', 3), ('PCR', 3), ('sukarra', 3), ('Tentsio', 2), ('exudatua', 2), ('OTA', 2), ('ziztada', 2), ('proba', 2), ('L', 2), ('Mantouxa', 2), ('EKG', 2), ('esplenomegalia', 2), ('auskultazioa', 2), ('GPT', 2), ('EMG', 2), ('ENG', 2), ('BA', 2), ('traza', 2), ('analisia', 2), ('Tª', 2), ('miaketa', 2), ('Gainontzekoa', 2), ('Hematieak', 2), ('Miaketa', 2), ('tentsio', 2), ('azterketa', 1), ('ez-aktiboa', 1), ('Tamaina', 1), ('aktiboa', 1), ('tamainaz', 1), ('Pultsu', 1), ('O2Sat', 1), ('bihotz-maiztasuna', 1), ('tenperatura', 1), ('testa', 1), ('pisatzen', 1), ('hipertentsio', 1), ('frakzioa', 1), ('HDL-kolesterola', 1), ('luze', 1), ('Triglizeridoen', 1), ('kolesterol', 1), ('ikus-eskala', 1), ('EVA', 1), ('Erradiografia', 1), ('indizea', 1), ('biokimika', 1), ('Elektrokardiograma', 1), ('hemograma', 1), ('Elektroentzefalograma', 1), ('tiroide-hormonak', 1), ('ekokardiograma', 1), ('antiestreptolisina-O', 1), ('faringe-frotis', 1), ('Hemokultiboa', 1), ('Analisiak', 1), ('tomografia', 1), ('antigorputzak', 1), ('Analitikan', 1), ('Murphy', 1), ('antigenoa', 1), ('Transaminasak', 1), ('Mycobacterium', 1), ('interferoia', 1), ('Fi', 1), ('lesio', 1), ('bizi-konstante', 1), ('Parasitazio', 1), ('lipasa', 1), ('odol-analisiko', 1), ('amilasa', 1), ('laktato', 1), ('GERNU-ZITOLOGIA', 1), ('Urokultiboa', 1), ('Gernu-analisia', 1), ('iragazketa', 1), ('indarra', 1), ('min.Tenperatura', 1), ('gluzemia', 1), ('Hezur-serie', 1), ('pultsuak', 1), ('Ferritina', 1), ('koagulazio-azterketa', 1), ('Urea', 1), ('erreflexuak', 1), ('Bilirrubina', 1), ('Hg.BM', 1), ('elektrolitoak', 1), ('kolesterola', 1), ('sentikortasuna', 1), ('azido', 1), ('angiografia', 1), ('Kolonoskopia', 1), ('flexioa', 1), ('Sentsibilitate', 1), ('Abdukzioa', 1), ('Fabere', 1), ('erreaktanteak', 1), ('errinoskopia', 1), ('zulaketa', 1), ('Mugikortasun', 1), ('giltzurrun-perkusio', 1), ('Pultsoak', 1), ('potasioa', 1), ('FISIKOATA', 1), ('neutrofiloak', 1), ('gainerakoa', 1), ('sodioa', 1), ('M', 1), ('Koagulazioa', 1), ('plaketak', 1), ('leukozitoak', 1), ('Biokimika', 1), ('ANALITIKA', 1), ('Pare', 1), ('Odol-analisia', 1), ('Tentsio-arteriala', 1), ('Otoskopia', 1), ('giltzurrun-funtzioa', 1), ('Glukosa', 1), ('Arnasketa', 1), ('Zirkulazio', 1), ('Jokabide', 1), ('TEP', 1), ('entzimak', 1), ('gutxiegitasun', 1), ('Esterasa', 1), ('Prokaltzitonina', 1), ('Hemostasia', 1), ('erretikulozitoak', 1), ('galera', 1), ('bradikardia', 1), ('parametroak', 1), ('Explorazio', 1), ('VMK', 1), ('egindakofroga', 1)]\n",
      "Most Common Relations [(('normala', 'erradiografia'), 3), (('SBA', 'exudatua'), 2), (('normala', 'Azterketa'), 2), (('normala', 'Gainontzekoa'), 2), (('normala', 'Miaketa'), 2), (('normala', 'azterketa'), 1), (('2 mm', 'ez-aktiboa'), 1), (('normala/handitua', 'Tamaina'), 1), (('10 mm', 'aktiboa'), 1), (('normala/handitua', 'tamainaz'), 1), (('normalak', 'Pultsu'), 1), (('% 99', 'O2Sat'), 1), (('98 tau/min', 'bihotz-maiztasuna'), 1), (('144/83 mm Hg', 'Tentsio'), 1), (('39 ºC-ko', 'tenperatura'), 1), (('positiboa', 'testa'), 1), (('80 kg', 'pisatzen'), 1), (('140/95 mmHg', 'hipertentsio'), 1), (('% 45', 'frakzioa'), 1), (('45 mg/dL', 'HDL-kolesterola'), 1), (('140/97 mm-Hg', 'Tentsio'), 1), (('1,65 m', 'luze'), 1), (('normala', 'Triglizeridoen'), 1), (('235 mg/dL', 'kolesterol'), 1), (('7 puntu', 'ikus-eskala'), 1), (('7 puntu', 'EVA'), 1), (('normala', 'Erradiografia'), 1), (('75 orduko', 'indizea'), 1), (('normalak', 'biokimika'), 1), (('normalak', 'Elektrokardiograma'), 1), (('normalak', 'hemograma'), 1), (('normala', 'Elektroentzefalograma'), 1), (('normalak', 'tiroide-hormonak'), 1), (('normalak', 'erradiografia'), 1), (('normalak', 'ekokardiograma'), 1), (('1240 UI/mL', 'antiestreptolisina-O'), 1), (('normalak', 'Azterketa'), 1), (('negatiboa', 'faringe-frotis'), 1), (('SBA', 'Hemokultiboa'), 1), (('emaitza normalak', 'OTA'), 1), (('emaitza normalak', 'ziztada'), 1), (('emaitza normalak', 'Analisiak'), 1), (('emaitza normalak', 'tomografia'), 1), (('ezezkoak', 'proba'), 1), (('2048ko titulua', 'antigorputzak'), 1), (('74 mg/L', 'PCR'), 1), (('15.000 leukozito/mm3', 'Analitikan'), 1), (('+', 'Murphy'), 1), (('%80S', 'L'), 1), (('zalantzatsua', 'antigenoa'), 1), (('normalak', 'Transaminasak'), 1), (('17mm', 'Mantouxa'), 1), (('positiboa', 'Mycobacterium'), 1), (('positiboa', 'ziztada'), 1), (('positiboa', 'interferoia'), 1), (('10mm', 'Mantouxa'), 1), (('86 l/m', 'EKG'), 1), (('%21', 'Fi'), 1), (('3 cm- ko diametroko', 'lesio'), 1), (('normalak', 'bizi-konstante'), 1), (('+', 'PCR'), 1), (('%7ko', 'Parasitazio'), 1), (('negatiboa', 'proba'), 1), (('178,9U/L', 'lipasa'), 1), (('normalak', 'odol-analisiko'), 1), (('221U/L', 'amilasa'), 1), (('maila altua', 'laktato'), 1), (('negatiboa', 'GERNU-ZITOLOGIA'), 1), (('negatiboa', 'Urokultiboa'), 1), (('3-10 hematie / kanpo', 'Gernu-analisia'), 1), (('normalak', 'iragazketa'), 1), (('normala', 'EKG'), 1), (('normalak', 'indarra'), 1), (('36,6 ̊C', 'min.Tenperatura'), 1), (('normalak', 'gluzemia'), 1), (('normala', 'Hezur-serie'), 1), (('normalak', 'pultsuak'), 1), (('19 cm-ko', 'esplenomegalia'), 1), (('444 ng/ml', 'Ferritina'), 1), (('normala', 'auskultazioa'), 1), (('normalak', 'koagulazio-azterketa'), 1), (('normalak', 'Urea'), 1), (('normalak', 'erreflexuak'), 1), (('1,44 mg/dl', 'Bilirrubina'), 1), (('80 taup', 'Hg.BM'), 1), (('normalak', 'GPT'), 1), (('normalak', 'elektrolitoak'), 1), (('normalak', 'kolesterola'), 1), (('normalak', 'sentikortasuna'), 1), (('10 cm-ko', 'esplenomegalia'), 1), (('normalak', 'azido'), 1), (('moderatu-larria', 'EMG'), 1), (('normala', 'OTA'), 1), (('larria', 'ENG'), 1), (('normala', 'angiografia'), 1), (('larria', 'EMG'), 1), (('normala', 'Kolonoskopia'), 1), (('moderatu-larria', 'ENG'), 1), (('100', 'flexioa'), 1), (('mingarria', 'BA'), 1), (('normala', 'Sentsibilitate'), 1), (('osoa', 'BA'), 1), (('90', 'Abdukzioa'), 1), (('positiboa', 'Fabere'), 1), (('38ºC', 'sukarra'), 1), (('altu', 'erreaktanteak'), 1), (('42.9', 'traza'), 1), (('42.9', 'analisia'), 1), (('positiboa', 'analisia'), 1), (('positiboa', 'traza'), 1), (('normala', 'errinoskopia'), 1), (('1 cm-ko diametrokoa', 'zulaketa'), 1), (('0-120º', 'Mugikortasun'), 1), (('normala', 'giltzurrun-perkusio'), 1), (('normalak', 'Pultsoak'), 1), ((\"5'87 mmol/L\", 'potasioa'), 1), (('120/73', 'FISIKOATA'), 1), (('10.500/ul', 'neutrofiloak'), 1), (('normal', 'gainerakoa'), 1), (('129 mmol/L', 'sodioa'), 1), ((\"27'67 mg/dl\", 'PCR'), 1), (('+', 'M'), 1), (('normala', 'Koagulazioa'), 1), (('ondo', 'plaketak'), 1), (('ondo', 'leukozitoak'), 1), (('normala', 'Biokimika'), 1), (('36.3º', 'Tª'), 1), (('normala', 'ANALITIKA'), 1), (('normalak', 'Pare'), 1), (('normala', 'Odol-analisia'), 1), (('133/88 mmHg', 'Tentsio-arteriala'), 1), (('normala', 'Otoskopia'), 1), (('normalak', 'giltzurrun-funtzioa'), 1), (('normalak', 'Glukosa'), 1), (('40ºC-rainoko', 'sukarra'), 1), (('negatiboa', 'miaketa'), 1), (('anormala', 'Arnasketa'), 1), (('normala', 'Zirkulazio'), 1), (('normala', 'Jokabide'), 1), (('anormala', 'TEP'), 1), (('normalak', 'auskultazioa'), 1), (('ohiko baloreen gainetik', 'entzimak'), 1), (('%25a', 'gutxiegitasun'), 1), (('3.22', 'Hematieak'), 1), (('500', 'Esterasa'), 1), (('0.21', 'Prokaltzitonina'), 1), (('4.6', 'Hematieak'), 1), (('%23.7', 'L'), 1), (('normala', 'Hemostasia'), 1), (('normala', 'GPT'), 1), (('2%', 'erretikulozitoak'), 1), (('8 kg-ko', 'galera'), 1), (('36,6ºC', 'Tª'), 1), (('adinerako balore normal eta altuaren arteko mugan', 'tentsio'), 1), (('50 taupada/min', 'bradikardia'), 1), (('90-95.pertzentila', 'tentsio'), 1), (('gehiengoa 39.9ºC', 'sukarra'), 1), (('normalak', 'parametroak'), 1), (('normala', 'Explorazio'), 1), (('arrunta', 'miaketa'), 1), (('%50era', 'VMK'), 1), (('normaltasunean', 'egindakofroga'), 1)]\n",
      "\n",
      "xlmroberta_multilingual\n",
      "Most Common RML Entities: [('emaitza normalak', 4), ('positiboa', 4), ('SBA', 3), ('normala', 2), ('7 puntu', 2), ('larria', 2), ('moderatu-larria', 2), ('ondo', 2), ('minutuko 75 taupadako', 2), ('10 mm', 1), ('normala/handitua', 1), ('80 kg', 1), ('140/95 mmHg', 1), ('1,65 m', 1), ('75 orduko', 1), ('ezezkoak', 1), ('2048ko titulua', 1), ('256', 1), ('zalantzatsua', 1), ('178,9U/L', 1), ('maila altua', 1), ('3-10 hematie / kanpo', 1), ('10 cm-ko', 1), ('36,6 ̊C', 1), ('80 taup', 1), ('100', 1), ('osoa', 1), ('mingarria', 1), ('1 cm-ko diametrokoa', 1), ('0-120º', 1), (\"27'67 mg/dl\", 1), ('+', 1), ('ohiko baloreen gainetik', 1), ('%25a', 1), ('%4.7', 1), ('%89.6', 1), ('500', 1), ('%64', 1), ('%23.7', 1), ('8 kg-ko', 1), ('36,6ºC', 1), ('adinerako balore normal eta altuaren arteko mugan', 1), ('balore normaletara', 1), ('90-95.pertzentila', 1), ('arrunta', 1), ('90/60mmHg-ko', 1), ('normaltasunean', 1)]\n",
      "Most Common TST Entities: [('exudatua', 2), ('antigorputzak', 2), ('EMG', 2), ('ENG', 2), ('BA', 2), ('L', 2), ('N', 2), ('tentsio', 2), ('azterketa', 1), ('aktiboa', 1), ('tamainaz', 1), ('pisatzen', 1), ('hipertentsio', 1), ('luze', 1), ('ikus-eskala', 1), ('EVA', 1), ('indizea', 1), ('Hemokultiboa', 1), ('OTA', 1), ('ziztada', 1), ('Analisiak', 1), ('tomografia', 1), ('proba', 1), ('antigenoa', 1), ('Mycobacterium', 1), ('lipasa', 1), ('laktato', 1), ('Gernu-analisia', 1), ('esplenomegalia', 1), ('min.Tenperatura', 1), ('Hg.BM', 1), ('flexioa', 1), ('Fabere', 1), ('analisia', 1), ('traza', 1), ('zulaketa', 1), ('Mugikortasun', 1), ('PCR', 1), ('M', 1), ('leukozitoak', 1), ('plaketak', 1), ('Jokabide', 1), ('entzimak', 1), ('erritmo', 1), ('gutxiegitasun', 1), ('EKG', 1), ('Esterasa', 1), ('galera', 1), ('Tª', 1), ('maiztasuna', 1), ('miaketa', 1), ('TA', 1), ('egindakofroga', 1)]\n",
      "Most Common Relations [(('SBA', 'exudatua'), 2), (('normala', 'azterketa'), 1), (('10 mm', 'aktiboa'), 1), (('normala/handitua', 'tamainaz'), 1), (('80 kg', 'pisatzen'), 1), (('140/95 mmHg', 'hipertentsio'), 1), (('1,65 m', 'luze'), 1), (('7 puntu', 'ikus-eskala'), 1), (('7 puntu', 'EVA'), 1), (('75 orduko', 'indizea'), 1), (('SBA', 'Hemokultiboa'), 1), (('emaitza normalak', 'OTA'), 1), (('emaitza normalak', 'ziztada'), 1), (('emaitza normalak', 'Analisiak'), 1), (('emaitza normalak', 'tomografia'), 1), (('ezezkoak', 'proba'), 1), (('2048ko titulua', 'antigorputzak'), 1), (('256', 'antigorputzak'), 1), (('zalantzatsua', 'antigenoa'), 1), (('positiboa', 'Mycobacterium'), 1), (('178,9U/L', 'lipasa'), 1), (('maila altua', 'laktato'), 1), (('3-10 hematie / kanpo', 'Gernu-analisia'), 1), (('10 cm-ko', 'esplenomegalia'), 1), (('36,6 ̊C', 'min.Tenperatura'), 1), (('80 taup', 'Hg.BM'), 1), (('larria', 'EMG'), 1), (('moderatu-larria', 'EMG'), 1), (('moderatu-larria', 'ENG'), 1), (('larria', 'ENG'), 1), (('100', 'flexioa'), 1), (('osoa', 'BA'), 1), (('mingarria', 'BA'), 1), (('positiboa', 'Fabere'), 1), (('positiboa', 'analisia'), 1), (('positiboa', 'traza'), 1), (('1 cm-ko diametrokoa', 'zulaketa'), 1), (('0-120º', 'Mugikortasun'), 1), ((\"27'67 mg/dl\", 'PCR'), 1), (('+', 'M'), 1), (('ondo', 'leukozitoak'), 1), (('ondo', 'plaketak'), 1), (('normala', 'Jokabide'), 1), (('ohiko baloreen gainetik', 'entzimak'), 1), (('minutuko 75 taupadako', 'erritmo'), 1), (('%25a', 'gutxiegitasun'), 1), (('minutuko 75 taupadako', 'EKG'), 1), (('%4.7', 'L'), 1), (('%89.6', 'N'), 1), (('500', 'Esterasa'), 1), (('%64', 'N'), 1), (('%23.7', 'L'), 1), (('8 kg-ko', 'galera'), 1), (('36,6ºC', 'Tª'), 1), (('adinerako balore normal eta altuaren arteko mugan', 'tentsio'), 1), (('balore normaletara', 'maiztasuna'), 1), (('90-95.pertzentila', 'tentsio'), 1), (('arrunta', 'miaketa'), 1), (('90/60mmHg-ko', 'TA'), 1), (('normaltasunean', 'egindakofroga'), 1)]\n",
      "\n",
      "biobert_multilingual\n",
      "Most Common RML Entities: [('normalak', 13), ('emaitza normalak', 4), ('positiboa', 4), ('normala', 4), ('SBA', 3), ('+', 3), ('normala/handitua', 2), ('7 puntu', 2), ('larria', 2), ('moderatu-larria', 2), ('anormala', 2), ('positiboak', 1), ('80 kg', 1), ('140/95 mmHg', 1), ('1,6 m', 1), ('% 45', 1), ('150 mg/dL', 1), ('1,65 m', 1), ('65 kg', 1), ('45 mg/dL', 1), ('ezezkoak', 1), ('2048ko titulua', 1), ('15.000 leukozito/mm3', 1), ('zalantzatsua', 1), ('256', 1), ('%80S', 1), ('3 cm- ko diametroko', 1), ('negatiboa', 1), ('178,9U/L', 1), ('221U/L', 1), ('maila altua', 1), ('3-10 hematie / kanpo', 1), ('202 u/L', 1), ('36,6 ̊C', 1), ('80 taup', 1), ('10 cm-ko', 1), ('mingarria', 1), ('osoa', 1), ('negatiboak', 1), ('altu', 1), ('42.9', 1), ('1 cm-ko diametrokoa', 1), ('0-120º', 1), (\"5'87 mmol/L\", 1), (\"3'24 g/dl\", 1), (\"27'67 mg/dl\", 1), ('129 mmol/L', 1), ('7 mm-rainoko', 1), ('40ºC-rainoko', 1), ('ohiko baloreen gainetik', 1), ('minutuko 75 taupadako', 1), ('%25a', 1), ('500', 1), ('++', 1), ('8 kg-ko', 1), ('arrunta', 1), ('90/60mmHg-ko', 1), ('%85eko', 1), ('normaltasunean', 1)]\n",
      "Most Common TST Entities: [('pisatzen', 2), ('exudatua', 2), ('proba', 2), ('antigorputzak', 2), ('EMG', 2), ('ENG', 2), ('BA', 2), ('traza', 2), ('Tamaina', 1), ('tamainaz', 1), ('test', 1), ('hipertentsio', 1), ('altuera', 1), ('frakzioa', 1), ('LDL-kolesterola', 1), ('luze', 1), ('HDL-kolesterola', 1), ('ikus-eskala', 1), ('EVA', 1), ('Hemokultiboa', 1), ('OTA', 1), ('ziztada', 1), ('Analisiak', 1), ('tomografia', 1), ('Analitikan', 1), ('Murphy', 1), ('antigenoa', 1), ('L', 1), ('Mycobacterium', 1), ('lesio', 1), ('bizi-konstante', 1), ('lipasa', 1), ('odol-analisiko', 1), ('amilasa', 1), ('laktato', 1), ('Gernu-analisia', 1), ('Hezur-serie', 1), ('pultsuak', 1), ('tonua', 1), ('indarra', 1), ('entzima', 1), ('koagulazio-azterketa', 1), ('min.Tenperatura', 1), ('erreflexuak', 1), ('elektrolitoak', 1), ('Hg.BM', 1), ('sentikortasuna', 1), ('esplenomegalia', 1), ('Fabere', 1), ('hazkuntza', 1), ('erreaktanteak', 1), ('analisia', 1), ('zulaketa', 1), ('Mugikortasun', 1), ('giltzurrun-perkusio', 1), ('Pultsoak', 1), ('potasioa', 1), ('albumina', 1), ('PCR', 1), ('sodioa', 1), ('M', 1), ('Pare', 1), ('Odol-analisia', 1), ('loditze', 1), ('giltzurrun-funtzioa', 1), ('Arnasketa', 1), ('sukarra', 1), ('TEP', 1), ('Flapping', 1), ('auskultazioa', 1), ('entzimak', 1), ('erritmo', 1), ('gutxiegitasun', 1), ('Esterasa', 1), ('nitritoak', 1), ('galera', 1), ('Explorazio', 1), ('miaketa', 1), ('TA', 1), ('saturazioa', 1), ('egindakofroga', 1)]\n",
      "Most Common Relations [(('SBA', 'exudatua'), 2), (('normala/handitua', 'Tamaina'), 1), (('normala/handitua', 'tamainaz'), 1), (('positiboak', 'test'), 1), (('80 kg', 'pisatzen'), 1), (('140/95 mmHg', 'hipertentsio'), 1), (('1,6 m', 'altuera'), 1), (('% 45', 'frakzioa'), 1), (('150 mg/dL', 'LDL-kolesterola'), 1), (('1,65 m', 'luze'), 1), (('65 kg', 'pisatzen'), 1), (('45 mg/dL', 'HDL-kolesterola'), 1), (('7 puntu', 'ikus-eskala'), 1), (('7 puntu', 'EVA'), 1), (('SBA', 'Hemokultiboa'), 1), (('emaitza normalak', 'OTA'), 1), (('emaitza normalak', 'ziztada'), 1), (('emaitza normalak', 'Analisiak'), 1), (('emaitza normalak', 'tomografia'), 1), (('ezezkoak', 'proba'), 1), (('2048ko titulua', 'antigorputzak'), 1), (('15.000 leukozito/mm3', 'Analitikan'), 1), (('+', 'Murphy'), 1), (('zalantzatsua', 'antigenoa'), 1), (('256', 'antigorputzak'), 1), (('%80S', 'L'), 1), (('positiboa', 'Mycobacterium'), 1), (('3 cm- ko diametroko', 'lesio'), 1), (('normalak', 'bizi-konstante'), 1), (('negatiboa', 'proba'), 1), (('178,9U/L', 'lipasa'), 1), (('normalak', 'odol-analisiko'), 1), (('221U/L', 'amilasa'), 1), (('maila altua', 'laktato'), 1), (('3-10 hematie / kanpo', 'Gernu-analisia'), 1), (('normala', 'Hezur-serie'), 1), (('normalak', 'pultsuak'), 1), (('normalak', 'tonua'), 1), (('normalak', 'indarra'), 1), (('202 u/L', 'entzima'), 1), (('normalak', 'koagulazio-azterketa'), 1), (('36,6 ̊C', 'min.Tenperatura'), 1), (('normalak', 'erreflexuak'), 1), (('normalak', 'elektrolitoak'), 1), (('80 taup', 'Hg.BM'), 1), (('normalak', 'sentikortasuna'), 1), (('10 cm-ko', 'esplenomegalia'), 1), (('larria', 'EMG'), 1), (('moderatu-larria', 'EMG'), 1), (('moderatu-larria', 'ENG'), 1), (('larria', 'ENG'), 1), (('mingarria', 'BA'), 1), (('osoa', 'BA'), 1), (('positiboa', 'Fabere'), 1), (('negatiboak', 'hazkuntza'), 1), (('altu', 'erreaktanteak'), 1), (('positiboa', 'analisia'), 1), (('42.9', 'traza'), 1), (('positiboa', 'traza'), 1), (('1 cm-ko diametrokoa', 'zulaketa'), 1), (('0-120º', 'Mugikortasun'), 1), (('normala', 'giltzurrun-perkusio'), 1), (('normalak', 'Pultsoak'), 1), ((\"5'87 mmol/L\", 'potasioa'), 1), ((\"3'24 g/dl\", 'albumina'), 1), ((\"27'67 mg/dl\", 'PCR'), 1), (('129 mmol/L', 'sodioa'), 1), (('+', 'M'), 1), (('normalak', 'Pare'), 1), (('normala', 'Odol-analisia'), 1), (('7 mm-rainoko', 'loditze'), 1), (('normalak', 'giltzurrun-funtzioa'), 1), (('anormala', 'Arnasketa'), 1), (('40ºC-rainoko', 'sukarra'), 1), (('anormala', 'TEP'), 1), (('+', 'Flapping'), 1), (('normalak', 'auskultazioa'), 1), (('ohiko baloreen gainetik', 'entzimak'), 1), (('minutuko 75 taupadako', 'erritmo'), 1), (('%25a', 'gutxiegitasun'), 1), (('500', 'Esterasa'), 1), (('++', 'nitritoak'), 1), (('8 kg-ko', 'galera'), 1), (('normala', 'Explorazio'), 1), (('arrunta', 'miaketa'), 1), (('90/60mmHg-ko', 'TA'), 1), (('%85eko', 'saturazioa'), 1), (('normaltasunean', 'egindakofroga'), 1)]\n",
      "\n"
     ]
    }
   ],
   "source": [
    "missed_relations_combined = {}\n",
    "spurious_relations_combined = {}\n",
    "partial_relations_combined = {}\n",
    "\n",
    "for model in ['mbert', 'xlmroberta', 'biobert', 'mbert_multilingual', 'xlmroberta_multilingual', 'biobert_multilingual']:\n",
    "    print(model)\n",
    "    missed, spurious, partial = qualitative_analysis_of_relation_errors(lang, model, type=\"missed\")\n",
    "    missed_relations_combined[model] = missed\n",
    "    spurious_relations_combined[model] = spurious\n",
    "    partial_relations_combined[model] = partial\n",
    "    print()"
   ]
  },
  {
   "cell_type": "code",
   "execution_count": 5,
   "metadata": {},
   "outputs": [],
   "source": [
    "import matplotlib.pyplot as plt\n",
    "import seaborn as sns"
   ]
  },
  {
   "cell_type": "code",
   "execution_count": 6,
   "metadata": {},
   "outputs": [
    {
     "name": "stdout",
     "output_type": "stream",
     "text": [
      "Common Missed Pairs Across Models: (18.60, PASI)                12\n",
      "(normal, exploración)        12\n",
      "(normales, calcio)           12\n",
      "(inespecíficas, biopsias)    12\n",
      "(negativos, Salmonella)       9\n",
      "                             ..\n",
      "(70 mmHg, estenosis)          2\n",
      "(< 70%, saturación)           2\n",
      "(1,1 cm, Lesión)              2\n",
      "(+, IgG)                      2\n",
      "(normales, gasometría)        2\n",
      "Name: count, Length: 298, dtype: int64\n",
      "Unique Missed Relations by Model: {'mbert': set(), 'xlmroberta': set(), 'biobert': set(), 'mbert_multilingual': set(), 'xlmroberta_multilingual': set(), 'biobert_multilingual': set()}\n"
     ]
    }
   ],
   "source": [
    "\n",
    "df = pd.DataFrame([(model, pair[0], pair[1]) for model, relations in missed_relations_combined.items() for pair in relations], columns=['Model', 'RML', 'TST'])\n",
    "\n",
    "# Count the frequency of each RML and TST by model\n",
    "rml_freq = df.groupby(['Model', 'RML']).size().unstack(fill_value=0)\n",
    "tst_freq = df.groupby(['Model', 'TST']).size().unstack(fill_value=0)\n",
    "\n",
    "\n",
    "# Analyze common and unique missed pairs\n",
    "all_pairs = pd.Series([pair for relations in missed_relations_combined.values() for pair in relations])\n",
    "common_pairs = all_pairs[all_pairs.duplicated(keep=False)].value_counts()\n",
    "print(\"Common Missed Pairs Across Models:\", common_pairs)\n",
    "\n",
    "# Find unique missed relations by each model\n",
    "unique_analysis = {model: set(relations) - set(all_pairs[all_pairs != model]) for model, relations in missed_relations_combined.items()}\n",
    "print(\"Unique Missed Relations by Model:\", unique_analysis)"
   ]
  },
  {
   "cell_type": "code",
   "execution_count": 58,
   "metadata": {},
   "outputs": [
    {
     "name": "stdout",
     "output_type": "stream",
     "text": [
      "Relations Exclusively Missed by Selected Models:\n",
      "{('39%', 'neutrofili'), ('negatività', 'urinocoltura'), ('nella norma', 'diametri'), ('154 mMol/L', 'ipernatremia'), ('nella norma', 'sierodiagnosi'), ('500 mmol/mol', 'Creatinina'), ('negativo', 'catalasi'), ('110 mEq/l', 'iposodiemia'), ('negatività', 'sierologie'), ('ai limiti inferiori del range', 'sideremia'), ('negativa', 'obiettività'), ('746 μmolL', 'iperammoniemia'), ('positiva', 'Pseudomonas'), ('11,6 UI/L', 'CKMB'), ('>15%', 'ipereosinofilia'), ('nel range di normalità', 'kaliemia'), ('negativi', 'Ricerca'), ('negative', 'emoglobinopatie'), ('kg 16.7', 'Peso'), ('2/6', 'soffio')}\n"
     ]
    }
   ],
   "source": [
    "def find_exclusively_missed_relations(selected_models, all_missed_relations):\n",
    "    \"\"\"\n",
    "    Identify relations that are exclusively missed by a specified subset of models,\n",
    "    meaning these relations are missed by all models in the subset and not missed by any models outside this subset.\n",
    "    \n",
    "    Parameters:\n",
    "    - selected_models: List[str] -- a list of model names to analyze.\n",
    "    - all_missed_relations: Dict[str, List[Tuple]] -- a dictionary where keys are model names and values are lists of missed relations.\n",
    "    \n",
    "    Returns:\n",
    "    - Set[Tuple] -- a set of relations uniquely missed by the specified subset of models.\n",
    "    \"\"\"\n",
    "    # Relations missed by all selected models\n",
    "    selected_misses = [set(all_missed_relations[model]) for model in selected_models]\n",
    "    if not selected_misses:\n",
    "        return set()  # Return an empty set if no models are selected\n",
    "    exclusively_missed = set.intersection(*selected_misses)\n",
    "    \n",
    "    # Remove any relations that are missed by models not in the selected subset\n",
    "    other_models = set(all_missed_relations.keys()) - set(selected_models)\n",
    "    for model in other_models:\n",
    "        exclusively_missed -= set(all_missed_relations[model])\n",
    "    \n",
    "    return exclusively_missed\n",
    "\n",
    "\n",
    "\n",
    "# Example usage\n",
    "# selected_models = ['mbert', 'mbert_multilingual']\n",
    "selected_models = ['xlmroberta', 'xlmroberta_multilingual']\n",
    "# selected_models = ['biobert', 'biobert_multilingual']\n",
    "exclusively_missed = find_exclusively_missed_relations(selected_models, missed_relations_combined)\n",
    "print(\"Relations Exclusively Missed by Selected Models:\" )\n",
    "print(exclusively_missed)"
   ]
  },
  {
   "cell_type": "code",
   "execution_count": 25,
   "metadata": {},
   "outputs": [],
   "source": [
    "lang = \"eu\""
   ]
  },
  {
   "cell_type": "code",
   "execution_count": 26,
   "metadata": {},
   "outputs": [
    {
     "name": "stdout",
     "output_type": "stream",
     "text": [
      "mbert\n",
      "Total number of preds 231\n",
      "xlmroberta\n",
      "Total number of preds 364\n",
      "biobert\n",
      "Total number of preds 349\n",
      "mbert_multilingual\n",
      "Total number of preds 227\n",
      "xlmroberta_multilingual\n",
      "Total number of preds 421\n",
      "biobert_multilingual\n",
      "Total number of preds 340\n"
     ]
    }
   ],
   "source": [
    "for model in ['mbert', 'xlmroberta', 'biobert', 'mbert_multilingual', 'xlmroberta_multilingual', 'biobert_multilingual']:\n",
    "    print(model)\n",
    "    print(f\"Total number of preds {get_total_num_of_preds(lang, model)}\")"
   ]
  },
  {
   "cell_type": "code",
   "execution_count": 8,
   "metadata": {},
   "outputs": [
    {
     "name": "stdout",
     "output_type": "stream",
     "text": [
      "mbert\n",
      "Total number of preds 915\n",
      "xlmroberta\n",
      "Total number of preds 676\n",
      "biobert\n",
      "Total number of preds 623\n",
      "mbert_multilingual\n",
      "Total number of preds 676\n",
      "xlmroberta_multilingual\n",
      "Total number of preds 717\n",
      "biobert_multilingual\n",
      "Total number of preds 662\n"
     ]
    }
   ],
   "source": [
    "for model in ['mbert', 'xlmroberta', 'biobert', 'mbert_multilingual', 'xlmroberta_multilingual', 'biobert_multilingual']:\n",
    "    print(model)\n",
    "    print(f\"Total number of preds {get_total_num_of_preds(lang, model)}\")"
   ]
  },
  {
   "cell_type": "code",
   "execution_count": 4,
   "metadata": {},
   "outputs": [
    {
     "name": "stdout",
     "output_type": "stream",
     "text": [
      "2128\n",
      "2464\n",
      "2166\n"
     ]
    }
   ],
   "source": [
    "print(get_total_num_of_relations(\"it\"))\n",
    "print(get_total_num_of_relations(\"es\"))\n",
    "print(get_total_num_of_relations(\"eu\"))"
   ]
  },
  {
   "cell_type": "code",
   "execution_count": 13,
   "metadata": {},
   "outputs": [],
   "source": [
    "x = get_gold_relations(\"it\")"
   ]
  },
  {
   "cell_type": "code",
   "execution_count": 14,
   "metadata": {},
   "outputs": [
    {
     "data": {
      "text/plain": [
       "[('2', 'engagement', ('994', '995'), ('952', '962')),\n",
       " ('2', 'PHE-S', ('994', '995'), ('910', '915')),\n",
       " ('3', 'PHE-S', ('2658', '2659'), ('2591', '2596')),\n",
       " ('3', 'engagement', ('2658', '2659'), ('2639', '2649'))]"
      ]
     },
     "execution_count": 14,
     "metadata": {},
     "output_type": "execute_result"
    }
   ],
   "source": [
    "x[0]"
   ]
  },
  {
   "cell_type": "code",
   "execution_count": 15,
   "metadata": {},
   "outputs": [
    {
     "data": {
      "text/plain": [
       "612"
      ]
     },
     "execution_count": 15,
     "metadata": {},
     "output_type": "execute_result"
    }
   ],
   "source": [
    "len([item for sublist in x for item in sublist])"
   ]
  },
  {
   "cell_type": "code",
   "execution_count": 7,
   "metadata": {},
   "outputs": [],
   "source": [
    "y = get_pred_relations(\"eu\", \"xlmroberta\")"
   ]
  },
  {
   "cell_type": "code",
   "execution_count": 12,
   "metadata": {},
   "outputs": [
    {
     "data": {
      "text/plain": [
       "364"
      ]
     },
     "execution_count": 12,
     "metadata": {},
     "output_type": "execute_result"
    }
   ],
   "source": [
    "len([item for sublist in y for item in sublist])"
   ]
  }
 ],
 "metadata": {
  "kernelspec": {
   "display_name": ".venv",
   "language": "python",
   "name": "python3"
  },
  "language_info": {
   "codemirror_mode": {
    "name": "ipython",
    "version": 3
   },
   "file_extension": ".py",
   "mimetype": "text/x-python",
   "name": "python",
   "nbconvert_exporter": "python",
   "pygments_lexer": "ipython3",
   "version": "3.12.1"
  }
 },
 "nbformat": 4,
 "nbformat_minor": 2
}
