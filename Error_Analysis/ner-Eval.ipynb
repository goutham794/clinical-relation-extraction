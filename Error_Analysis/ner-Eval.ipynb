{
 "cells": [
  {
   "cell_type": "code",
   "execution_count": 28,
   "metadata": {},
   "outputs": [],
   "source": [
    "from nervaluate import Evaluator\n",
    "from utils import get_gold_data, get_pred_data"
   ]
  },
  {
   "cell_type": "code",
   "execution_count": 37,
   "metadata": {},
   "outputs": [
    {
     "data": {
      "text/plain": [
       "{'ent_type': {'correct': 919,\n",
       "  'incorrect': 9,\n",
       "  'partial': 0,\n",
       "  'missed': 162,\n",
       "  'spurious': 334,\n",
       "  'possible': 1090,\n",
       "  'actual': 1262,\n",
       "  'precision': 0.7282091917591125,\n",
       "  'recall': 0.8431192660550458,\n",
       "  'f1': 0.7814625850340136},\n",
       " 'partial': {'correct': 873,\n",
       "  'incorrect': 0,\n",
       "  'partial': 55,\n",
       "  'missed': 162,\n",
       "  'spurious': 334,\n",
       "  'possible': 1090,\n",
       "  'actual': 1262,\n",
       "  'precision': 0.7135499207606973,\n",
       "  'recall': 0.8261467889908257,\n",
       "  'f1': 0.7657312925170069},\n",
       " 'strict': {'correct': 872,\n",
       "  'incorrect': 56,\n",
       "  'partial': 0,\n",
       "  'missed': 162,\n",
       "  'spurious': 334,\n",
       "  'possible': 1090,\n",
       "  'actual': 1262,\n",
       "  'precision': 0.6909667194928685,\n",
       "  'recall': 0.8,\n",
       "  'f1': 0.7414965986394558},\n",
       " 'exact': {'correct': 873,\n",
       "  'incorrect': 55,\n",
       "  'partial': 0,\n",
       "  'missed': 162,\n",
       "  'spurious': 334,\n",
       "  'possible': 1090,\n",
       "  'actual': 1262,\n",
       "  'precision': 0.6917591125198098,\n",
       "  'recall': 0.8009174311926606,\n",
       "  'f1': 0.7423469387755101}}"
      ]
     },
     "execution_count": 37,
     "metadata": {},
     "output_type": "execute_result"
    }
   ],
   "source": [
    "tokens, true = get_gold_data(\"it\")\n",
    "pred = get_pred_data(\"it\", \"mbert\")\n",
    "\n",
    "evaluator = Evaluator(true, pred, tags=['RML', 'TST'], loader=\"list\")\n",
    "results, results_by_tag, result_indices, result_indices_by_tag = evaluator.evaluate()\n",
    "\n",
    "results"
   ]
  },
  {
   "cell_type": "code",
   "execution_count": 38,
   "metadata": {},
   "outputs": [
    {
     "data": {
      "text/plain": [
       "{'ent_type': {'correct': 882,\n",
       "  'incorrect': 9,\n",
       "  'partial': 0,\n",
       "  'missed': 199,\n",
       "  'spurious': 236,\n",
       "  'possible': 1090,\n",
       "  'actual': 1127,\n",
       "  'precision': 0.782608695652174,\n",
       "  'recall': 0.8091743119266055,\n",
       "  'f1': 0.7956698240866036},\n",
       " 'partial': {'correct': 815,\n",
       "  'incorrect': 0,\n",
       "  'partial': 76,\n",
       "  'missed': 199,\n",
       "  'spurious': 236,\n",
       "  'possible': 1090,\n",
       "  'actual': 1127,\n",
       "  'precision': 0.7568766637089619,\n",
       "  'recall': 0.7825688073394496,\n",
       "  'f1': 0.7695083446098331},\n",
       " 'strict': {'correct': 813,\n",
       "  'incorrect': 78,\n",
       "  'partial': 0,\n",
       "  'missed': 199,\n",
       "  'spurious': 236,\n",
       "  'possible': 1090,\n",
       "  'actual': 1127,\n",
       "  'precision': 0.7213842058562555,\n",
       "  'recall': 0.7458715596330275,\n",
       "  'f1': 0.733423545331529},\n",
       " 'exact': {'correct': 815,\n",
       "  'incorrect': 76,\n",
       "  'partial': 0,\n",
       "  'missed': 199,\n",
       "  'spurious': 236,\n",
       "  'possible': 1090,\n",
       "  'actual': 1127,\n",
       "  'precision': 0.7231588287488908,\n",
       "  'recall': 0.7477064220183486,\n",
       "  'f1': 0.7352277852954443}}"
      ]
     },
     "execution_count": 38,
     "metadata": {},
     "output_type": "execute_result"
    }
   ],
   "source": [
    "tokens, true = get_gold_data(\"it\")\n",
    "pred = get_pred_data(\"it\", \"xlmroberta\")\n",
    "\n",
    "evaluator = Evaluator(true, pred, tags=['RML', 'TST'], loader=\"list\")\n",
    "results, results_by_tag, result_indices, result_indices_by_tag = evaluator.evaluate()\n",
    "\n",
    "results"
   ]
  },
  {
   "cell_type": "code",
   "execution_count": 39,
   "metadata": {},
   "outputs": [
    {
     "data": {
      "text/plain": [
       "{'ent_type': {'correct': 834,\n",
       "  'incorrect': 2,\n",
       "  'partial': 0,\n",
       "  'missed': 254,\n",
       "  'spurious': 227,\n",
       "  'possible': 1090,\n",
       "  'actual': 1063,\n",
       "  'precision': 0.7845719661335842,\n",
       "  'recall': 0.7651376146788991,\n",
       "  'f1': 0.7747329307942407},\n",
       " 'partial': {'correct': 781,\n",
       "  'incorrect': 0,\n",
       "  'partial': 55,\n",
       "  'missed': 254,\n",
       "  'spurious': 227,\n",
       "  'possible': 1090,\n",
       "  'actual': 1063,\n",
       "  'precision': 0.7605832549388523,\n",
       "  'recall': 0.7417431192660551,\n",
       "  'f1': 0.7510450534138412},\n",
       " 'strict': {'correct': 781,\n",
       "  'incorrect': 55,\n",
       "  'partial': 0,\n",
       "  'missed': 254,\n",
       "  'spurious': 227,\n",
       "  'possible': 1090,\n",
       "  'actual': 1063,\n",
       "  'precision': 0.7347130761994356,\n",
       "  'recall': 0.7165137614678899,\n",
       "  'f1': 0.7254993032977243},\n",
       " 'exact': {'correct': 781,\n",
       "  'incorrect': 55,\n",
       "  'partial': 0,\n",
       "  'missed': 254,\n",
       "  'spurious': 227,\n",
       "  'possible': 1090,\n",
       "  'actual': 1063,\n",
       "  'precision': 0.7347130761994356,\n",
       "  'recall': 0.7165137614678899,\n",
       "  'f1': 0.7254993032977243}}"
      ]
     },
     "execution_count": 39,
     "metadata": {},
     "output_type": "execute_result"
    }
   ],
   "source": [
    "tokens, true = get_gold_data(\"it\")\n",
    "pred = get_pred_data(\"it\", \"biobert\")\n",
    "\n",
    "evaluator = Evaluator(true, pred, tags=['RML', 'TST'], loader=\"list\")\n",
    "results, results_by_tag, result_indices, result_indices_by_tag = evaluator.evaluate()\n",
    "\n",
    "results\n"
   ]
  },
  {
   "cell_type": "code",
   "execution_count": 40,
   "metadata": {},
   "outputs": [
    {
     "data": {
      "text/plain": [
       "{'ent_type': {'correct': 962,\n",
       "  'incorrect': 3,\n",
       "  'partial': 0,\n",
       "  'missed': 125,\n",
       "  'spurious': 267,\n",
       "  'possible': 1090,\n",
       "  'actual': 1232,\n",
       "  'precision': 0.7808441558441559,\n",
       "  'recall': 0.8825688073394495,\n",
       "  'f1': 0.8285960378983634},\n",
       " 'partial': {'correct': 917,\n",
       "  'incorrect': 0,\n",
       "  'partial': 48,\n",
       "  'missed': 125,\n",
       "  'spurious': 267,\n",
       "  'possible': 1090,\n",
       "  'actual': 1232,\n",
       "  'precision': 0.7637987012987013,\n",
       "  'recall': 0.863302752293578,\n",
       "  'f1': 0.8105081826012057},\n",
       " 'strict': {'correct': 917,\n",
       "  'incorrect': 48,\n",
       "  'partial': 0,\n",
       "  'missed': 125,\n",
       "  'spurious': 267,\n",
       "  'possible': 1090,\n",
       "  'actual': 1232,\n",
       "  'precision': 0.7443181818181818,\n",
       "  'recall': 0.8412844036697248,\n",
       "  'f1': 0.7898363479758829},\n",
       " 'exact': {'correct': 917,\n",
       "  'incorrect': 48,\n",
       "  'partial': 0,\n",
       "  'missed': 125,\n",
       "  'spurious': 267,\n",
       "  'possible': 1090,\n",
       "  'actual': 1232,\n",
       "  'precision': 0.7443181818181818,\n",
       "  'recall': 0.8412844036697248,\n",
       "  'f1': 0.7898363479758829}}"
      ]
     },
     "execution_count": 40,
     "metadata": {},
     "output_type": "execute_result"
    }
   ],
   "source": [
    "tokens, true = get_gold_data(\"it\")\n",
    "pred = get_pred_data(\"it\", \"mbert_multilingual_it\")\n",
    "\n",
    "evaluator = Evaluator(true, pred, tags=['RML', 'TST'], loader=\"list\")\n",
    "results, results_by_tag, result_indices, result_indices_by_tag = evaluator.evaluate()\n",
    "\n",
    "results"
   ]
  },
  {
   "cell_type": "code",
   "execution_count": 42,
   "metadata": {},
   "outputs": [
    {
     "data": {
      "text/plain": [
       "{'ent_type': {'correct': 940,\n",
       "  'incorrect': 3,\n",
       "  'partial': 0,\n",
       "  'missed': 147,\n",
       "  'spurious': 189,\n",
       "  'possible': 1090,\n",
       "  'actual': 1132,\n",
       "  'precision': 0.8303886925795053,\n",
       "  'recall': 0.8623853211009175,\n",
       "  'f1': 0.8460846084608461},\n",
       " 'partial': {'correct': 888,\n",
       "  'incorrect': 0,\n",
       "  'partial': 55,\n",
       "  'missed': 147,\n",
       "  'spurious': 189,\n",
       "  'possible': 1090,\n",
       "  'actual': 1132,\n",
       "  'precision': 0.8087455830388692,\n",
       "  'recall': 0.8399082568807339,\n",
       "  'f1': 0.8240324032403239},\n",
       " 'strict': {'correct': 888,\n",
       "  'incorrect': 55,\n",
       "  'partial': 0,\n",
       "  'missed': 147,\n",
       "  'spurious': 189,\n",
       "  'possible': 1090,\n",
       "  'actual': 1132,\n",
       "  'precision': 0.784452296819788,\n",
       "  'recall': 0.8146788990825689,\n",
       "  'f1': 0.7992799279927993},\n",
       " 'exact': {'correct': 888,\n",
       "  'incorrect': 55,\n",
       "  'partial': 0,\n",
       "  'missed': 147,\n",
       "  'spurious': 189,\n",
       "  'possible': 1090,\n",
       "  'actual': 1132,\n",
       "  'precision': 0.784452296819788,\n",
       "  'recall': 0.8146788990825689,\n",
       "  'f1': 0.7992799279927993}}"
      ]
     },
     "execution_count": 42,
     "metadata": {},
     "output_type": "execute_result"
    }
   ],
   "source": [
    "tokens, true = get_gold_data(\"it\")\n",
    "pred = get_pred_data(\"it\", \"xlmroberta_multilingual_it\")\n",
    "\n",
    "evaluator = Evaluator(true, pred, tags=['RML', 'TST'], loader=\"list\")\n",
    "results, results_by_tag, result_indices, result_indices_by_tag = evaluator.evaluate()\n",
    "\n",
    "results"
   ]
  },
  {
   "cell_type": "code",
   "execution_count": 41,
   "metadata": {},
   "outputs": [
    {
     "data": {
      "text/plain": [
       "{'ent_type': {'correct': 884,\n",
       "  'incorrect': 3,\n",
       "  'partial': 0,\n",
       "  'missed': 203,\n",
       "  'spurious': 181,\n",
       "  'possible': 1090,\n",
       "  'actual': 1068,\n",
       "  'precision': 0.8277153558052435,\n",
       "  'recall': 0.8110091743119267,\n",
       "  'f1': 0.819277108433735},\n",
       " 'partial': {'correct': 837,\n",
       "  'incorrect': 0,\n",
       "  'partial': 50,\n",
       "  'missed': 203,\n",
       "  'spurious': 181,\n",
       "  'possible': 1090,\n",
       "  'actual': 1068,\n",
       "  'precision': 0.8071161048689138,\n",
       "  'recall': 0.7908256880733945,\n",
       "  'f1': 0.798887859128823},\n",
       " 'strict': {'correct': 835,\n",
       "  'incorrect': 52,\n",
       "  'partial': 0,\n",
       "  'missed': 203,\n",
       "  'spurious': 181,\n",
       "  'possible': 1090,\n",
       "  'actual': 1068,\n",
       "  'precision': 0.7818352059925093,\n",
       "  'recall': 0.7660550458715596,\n",
       "  'f1': 0.77386468952734},\n",
       " 'exact': {'correct': 837,\n",
       "  'incorrect': 50,\n",
       "  'partial': 0,\n",
       "  'missed': 203,\n",
       "  'spurious': 181,\n",
       "  'possible': 1090,\n",
       "  'actual': 1068,\n",
       "  'precision': 0.7837078651685393,\n",
       "  'recall': 0.7678899082568807,\n",
       "  'f1': 0.7757182576459686}}"
      ]
     },
     "execution_count": 41,
     "metadata": {},
     "output_type": "execute_result"
    }
   ],
   "source": [
    "tokens, true = get_gold_data(\"it\")\n",
    "pred = get_pred_data(\"it\", \"biobert_multilingual_it\")\n",
    "\n",
    "evaluator = Evaluator(true, pred, tags=['RML', 'TST'], loader=\"list\")\n",
    "results, results_by_tag, result_indices, result_indices_by_tag = evaluator.evaluate()\n",
    "\n",
    "results"
   ]
  }
 ],
 "metadata": {
  "kernelspec": {
   "display_name": ".venv",
   "language": "python",
   "name": "python3"
  },
  "language_info": {
   "codemirror_mode": {
    "name": "ipython",
    "version": 3
   },
   "file_extension": ".py",
   "mimetype": "text/x-python",
   "name": "python",
   "nbconvert_exporter": "python",
   "pygments_lexer": "ipython3",
   "version": "3.12.1"
  }
 },
 "nbformat": 4,
 "nbformat_minor": 2
}
